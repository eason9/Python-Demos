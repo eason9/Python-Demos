{
 "cells": [
  {
   "cell_type": "markdown",
   "metadata": {},
   "source": [
    "# Python_1_Syntax_Basics\n",
    "\n",
    "Created on Sat Sep 29 14:33:28 2018 \n",
    "\n",
    "@author: Charles Garrett Eason\n",
    "\n",
    "Github Location: https://github.com/eason9/Python-JN-Demos.git\n",
    "\n",
    "Credit:\n",
    "\n",
    "Data From: https://github.com/shantnu/Intro-to-Pandas\n",
    "\n",
    "Instructional Reference: https://openedx.seas.gwu.edu/courses/course-v1:GW+EngComp1+2018/about"
   ]
  },
  {
   "cell_type": "markdown",
   "metadata": {},
   "source": [
    "## What is Python?\n",
    "Python is a high level, general purpose programming language whose typical implementation (CPython) is built on top of the much lower general purpose programming language of C.  There are other implementations (IronPython, Jython, PyPy, Stackless Python, etc.), but because most modern OSs are written in C, the Python compiler/interpreter you are most likely to use is also written in C.\n",
    "\n",
    "Python is an interpreted langage, meaning its implementations execute instructions directly and without requiring any compiling of the program into machine-language.  This means that when Python code is executed the i|nterpreter translates each statement directly into a sequence of one or more subroutines and then into another language (usually C in our case).  Basically, Pything being an interpreted language means you don't have to compile your code before you run it."
   ]
  },
  {
   "cell_type": "markdown",
   "metadata": {},
   "source": [
    "## Why Python?\n",
    "Simply because the python language is unmatched in its developmental efficiency.  Often other languages, especially if they are lower level languages, are more efficient during execution of their instructions as compared to Python.  But, it often takes 10 developers in other languages to do the work that 1 Python developer can do in the same amount of time.  Said differently, because Python is easy."
   ]
  },
  {
   "cell_type": "markdown",
   "metadata": {},
   "source": [
    "## Getting Started\n",
    "First Install Python, for beginners this can be accomplished by installing Anaconda (an environment manager for beginners):\n",
    "https://www.anaconda.com/distribution/\n",
    "\n",
    "Installing Anaconda will provide you access to Python through two IDEs that come with the distribution:\n",
    "\n",
    "1) Jupyter notebooks\n",
    "\n",
    "2) Spyder\n",
    "\n",
    "Programming in Python consists of two key tools:\n",
    "\n",
    "1) A text editor to write code into.\n",
    "\n",
    "2) A Python interpreter to execute code.\n",
    "\n",
    "In any integrated development environment (IDE) these are the two most important pieces that need to be identified before you can begin coding.  In Jupyter NoteBooks finding these is easy, the text editor is indicated by,\n",
    "\n",
    "`In[]:`\n",
    "\n",
    "and the code is automatically passed to the interpreter and executed after the code in the text editor is ran.  This results in the output of the executed code as,\n",
    "\n",
    "`Out[]:`\n",
    "\n",
    "Notice that the numbers that appear are the input line counters and keep track of the sequence in which code has been executed, e.g.\n",
    "\n",
    "`In[9]:`\n",
    "\n",
    "`Out[9]:`\n",
    "\n",
    "Signifies the 9th execution of instructions by the interpreter.  Keeping track of how you execute your code is extremely important in Jupyter NoteBooks because code can be executed in a non-sequential fasion and can result in errors.  Pay attention to the order in which you run your code or it will not work diretly when you come back to it."
   ]
  },
  {
   "cell_type": "markdown",
   "metadata": {},
   "source": [
    "## Syntax Basics\n",
    "### Functions\n",
    "A function is loosely defined as a bundle of instructions that are applied to some input(s) and return some output(s).  Every python funciton has a name and can be identified fromt he form: `function_name()`.  The `print()` function takes one or more inputs separated by `,` and returns the text of the input in the interpreter.  Below is an example of the `print()` funciton:"
   ]
  },
  {
   "cell_type": "code",
   "execution_count": 1,
   "metadata": {},
   "outputs": [
    {
     "name": "stdout",
     "output_type": "stream",
     "text": [
      "Hello world!!\n"
     ]
    }
   ],
   "source": [
    "print(\"Hello world!!\") # The print() function."
   ]
  },
  {
   "cell_type": "markdown",
   "metadata": {},
   "source": [
    "### Commenting\n",
    "Notice from the last execution that `#` can be used after written code within a line to comment notes about your program.  Use these extensively to leave reminders and explanations for yourself and others to understand what your program does later."
   ]
  },
  {
   "cell_type": "markdown",
   "metadata": {},
   "source": [
    "### Math\n",
    "Python has several mathematical operations, these include:\n",
    "\n",
    "```\n",
    "addition:       +\n",
    "subtraction:    -\n",
    "multiplication: *\n",
    "division:       /\n",
    "exponetiation:  **\n",
    "modulo:         %\n",
    "floor division: //\n",
    "```\n",
    "\n",
    "Of special note are:\n",
    "\n",
    "1) modulo: returns remainder after division.  This can be a very useful operation.\n",
    "\n",
    "2) floor division: returns number of times one number can be divided by another number discarding the remainder."
   ]
  },
  {
   "cell_type": "code",
   "execution_count": 2,
   "metadata": {},
   "outputs": [
    {
     "name": "stdout",
     "output_type": "stream",
     "text": [
      "5+2  = 7\n",
      "5-2  = 3\n",
      "5*2  = 10\n",
      "5/2  = 2.5\n",
      "5**2 = 25\n",
      "5%2  = 1\n",
      "5//2 = 2\n"
     ]
    }
   ],
   "source": [
    "print('5+2  =', 5+2)\n",
    "print('5-2  =', 5-2)\n",
    "print('5*2  =', 5*2)\n",
    "print('5/2  =', 5/2)\n",
    "print('5**2 =', 5**2)\n",
    "print('5%2  =', 5%2) # 5 divided by 2 is 2 with a remainder of 1.  Thus the output is the remainder, 1.\n",
    "print('5//2 =', 5//2)# 5 divided by 2 is 2 with a remainder of 1.  Thus the output is the quotent ignoring the remainder, 2."
   ]
  },
  {
   "cell_type": "markdown",
   "metadata": {},
   "source": [
    "Take note, python executes mathematical operations by the order of operations."
   ]
  },
  {
   "cell_type": "code",
   "execution_count": 3,
   "metadata": {},
   "outputs": [
    {
     "name": "stdout",
     "output_type": "stream",
     "text": [
      "3.0\n",
      "2.449489742783178\n"
     ]
    }
   ],
   "source": [
    "print(6**1/2) # exponetiation comes before division.\n",
    "print(6**(1/2)) # parenthesis comes before exponetiation."
   ]
  },
  {
   "cell_type": "markdown",
   "metadata": {},
   "source": [
    "Take further note that the \"print()\" function is being used here to print multiple lines, this is distinct from the output that is returned from using a funciton or operation.  Only the results from the last line of instruction are returned from the interpreter output.\n",
    "\n",
    "e.g."
   ]
  },
  {
   "cell_type": "code",
   "execution_count": 4,
   "metadata": {},
   "outputs": [
    {
     "name": "stdout",
     "output_type": "stream",
     "text": [
      "7\n",
      "Hello world!!\n"
     ]
    }
   ],
   "source": [
    "print(5+2)\n",
    "print(\"Hello world!!\")"
   ]
  },
  {
   "cell_type": "code",
   "execution_count": 5,
   "metadata": {},
   "outputs": [
    {
     "data": {
      "text/plain": [
       "'Hello world!!'"
      ]
     },
     "execution_count": 5,
     "metadata": {},
     "output_type": "execute_result"
    }
   ],
   "source": [
    "5+2\n",
    "\"Hello world!!\""
   ]
  },
  {
   "cell_type": "markdown",
   "metadata": {},
   "source": [
    "### Variables\n",
    "Variables can be assigned and stored for later us in the interpreter using: `name = value`"
   ]
  },
  {
   "cell_type": "code",
   "execution_count": 6,
   "metadata": {},
   "outputs": [],
   "source": [
    "sky = 'blue'"
   ]
  },
  {
   "cell_type": "markdown",
   "metadata": {},
   "source": [
    "Note, there are many possible options for variable names, but there are some special reserved names that cannot be used (they will turn a special color if they are reserved), e.g. `and`, `except`, `if`, `class`, `pass`, etc.  Also there are some restrictions concerning variable assignment, for example variable names cannot start with a digit, e.g. `1_sky` is not a valid variable name."
   ]
  },
  {
   "cell_type": "markdown",
   "metadata": {},
   "source": [
    "After assigning a variable, we can apply functions or operations to them."
   ]
  },
  {
   "cell_type": "code",
   "execution_count": 7,
   "metadata": {},
   "outputs": [
    {
     "name": "stdout",
     "output_type": "stream",
     "text": [
      "blue\n"
     ]
    }
   ],
   "source": [
    "print(sky)"
   ]
  },
  {
   "cell_type": "markdown",
   "metadata": {},
   "source": [
    "Variables can be removed from memory by using the `del`."
   ]
  },
  {
   "cell_type": "code",
   "execution_count": 8,
   "metadata": {},
   "outputs": [],
   "source": [
    "del sky"
   ]
  },
  {
   "cell_type": "code",
   "execution_count": 9,
   "metadata": {},
   "outputs": [
    {
     "name": "stdout",
     "output_type": "stream",
     "text": [
      "7\n"
     ]
    }
   ],
   "source": [
    "x = 5\n",
    "y = 2\n",
    "print(x + y)"
   ]
  },
  {
   "cell_type": "markdown",
   "metadata": {},
   "source": [
    "Variables can also be constructed out of variables."
   ]
  },
  {
   "cell_type": "code",
   "execution_count": 10,
   "metadata": {},
   "outputs": [
    {
     "name": "stdout",
     "output_type": "stream",
     "text": [
      "7\n"
     ]
    }
   ],
   "source": [
    "sum_xy = x + y\n",
    "print(sum_xy)"
   ]
  },
  {
   "cell_type": "markdown",
   "metadata": {},
   "source": [
    "### Variable Types\n",
    "Python has several built in class data types, among others these include:\n",
    "\n",
    "intergers, denoted `int`\n",
    "\n",
    "decimal numbers, denoted `float`\n",
    "\n",
    "strings, denoted `str`\n",
    "\n",
    "These types can be identified using the `type()` funciton."
   ]
  },
  {
   "cell_type": "code",
   "execution_count": 11,
   "metadata": {},
   "outputs": [
    {
     "name": "stdout",
     "output_type": "stream",
     "text": [
      "1     is a <class 'int'>\n",
      "1.5   is a <class 'float'>\n",
      "'cat' is a <class 'str'>\n"
     ]
    }
   ],
   "source": [
    "print(\"1     is a\", type(1))\n",
    "print(\"1.5   is a\", type(1.5))\n",
    "print(\"'cat' is a\", type('cat'))"
   ]
  },
  {
   "cell_type": "markdown",
   "metadata": {},
   "source": [
    "Following the logic, variables inherent data types."
   ]
  },
  {
   "cell_type": "code",
   "execution_count": 12,
   "metadata": {},
   "outputs": [
    {
     "name": "stdout",
     "output_type": "stream",
     "text": [
      "x is a <class 'int'>\n",
      "y is a <class 'int'>\n",
      "z is a <class 'str'>\n"
     ]
    }
   ],
   "source": [
    "x = 1\n",
    "t = 1.5\n",
    "z = 'cat'\n",
    "print(\"x is a\", type(x))\n",
    "print(\"y is a\", type(y))\n",
    "print(\"z is a\", type(z))"
   ]
  },
  {
   "cell_type": "markdown",
   "metadata": {},
   "source": [
    "The class type of a variable is important because it determines how operations and functions handle these variables.  For example we can add intergers and decimal numbers."
   ]
  },
  {
   "cell_type": "code",
   "execution_count": 13,
   "metadata": {},
   "outputs": [
    {
     "data": {
      "text/plain": [
       "2"
      ]
     },
     "execution_count": 13,
     "metadata": {},
     "output_type": "execute_result"
    }
   ],
   "source": [
    "x + x"
   ]
  },
  {
   "cell_type": "code",
   "execution_count": 14,
   "metadata": {},
   "outputs": [
    {
     "data": {
      "text/plain": [
       "2.5"
      ]
     },
     "execution_count": 14,
     "metadata": {},
     "output_type": "execute_result"
    }
   ],
   "source": [
    "x + t"
   ]
  },
  {
   "cell_type": "markdown",
   "metadata": {},
   "source": [
    "We can also add strings (this results in concatenation of the two distinct strings)."
   ]
  },
  {
   "cell_type": "code",
   "execution_count": 15,
   "metadata": {},
   "outputs": [
    {
     "data": {
      "text/plain": [
       "'catcat'"
      ]
     },
     "execution_count": 15,
     "metadata": {},
     "output_type": "execute_result"
    }
   ],
   "source": [
    "z + z"
   ]
  },
  {
   "cell_type": "markdown",
   "metadata": {},
   "source": [
    "While we can add decimals and intergers, we cannot add decimals (or intergers) and strings."
   ]
  },
  {
   "cell_type": "code",
   "execution_count": 16,
   "metadata": {},
   "outputs": [],
   "source": [
    "x = 1\n",
    "w = '1'"
   ]
  },
  {
   "cell_type": "code",
   "execution_count": 17,
   "metadata": {},
   "outputs": [
    {
     "data": {
      "text/plain": [
       "2"
      ]
     },
     "execution_count": 17,
     "metadata": {},
     "output_type": "execute_result"
    }
   ],
   "source": [
    "x + x"
   ]
  },
  {
   "cell_type": "code",
   "execution_count": 18,
   "metadata": {},
   "outputs": [
    {
     "data": {
      "text/plain": [
       "'11'"
      ]
     },
     "execution_count": 18,
     "metadata": {},
     "output_type": "execute_result"
    }
   ],
   "source": [
    "w + w"
   ]
  },
  {
   "cell_type": "code",
   "execution_count": 19,
   "metadata": {},
   "outputs": [
    {
     "ename": "TypeError",
     "evalue": "unsupported operand type(s) for +: 'int' and 'str'",
     "output_type": "error",
     "traceback": [
      "\u001b[1;31m---------------------------------------------------------------------------\u001b[0m",
      "\u001b[1;31mTypeError\u001b[0m                                 Traceback (most recent call last)",
      "\u001b[1;32m<ipython-input-19-7414e72702f9>\u001b[0m in \u001b[0;36m<module>\u001b[1;34m\u001b[0m\n\u001b[1;32m----> 1\u001b[1;33m \u001b[0mx\u001b[0m \u001b[1;33m+\u001b[0m \u001b[0mw\u001b[0m\u001b[1;33m\u001b[0m\u001b[1;33m\u001b[0m\u001b[0m\n\u001b[0m",
      "\u001b[1;31mTypeError\u001b[0m: unsupported operand type(s) for +: 'int' and 'str'"
     ]
    }
   ],
   "source": [
    "x + w"
   ]
  },
  {
   "cell_type": "markdown",
   "metadata": {},
   "source": [
    "### Special Variable Types\n",
    "Python has a few special variables, two importance cases include the `Boolean` and `None` variable type.  The Boolean type is a variable that can only take on the values of `True` or `False`, while the None variable type represents no value being assigned to the variable."
   ]
  },
  {
   "cell_type": "code",
   "execution_count": 20,
   "metadata": {},
   "outputs": [
    {
     "name": "stdout",
     "output_type": "stream",
     "text": [
      "Variable T is <class 'bool'>\n",
      "Variable N is <class 'NoneType'>\n"
     ]
    }
   ],
   "source": [
    "T = True\n",
    "N = None\n",
    "print(\"Variable T is\", type(T))\n",
    "print(\"Variable N is\", type(N))"
   ]
  },
  {
   "cell_type": "markdown",
   "metadata": {},
   "source": [
    "### Comparsion Operators\n",
    "One very important and useful class of operators in Python include the comparison operators:\n",
    "```\n",
    "less than?:                 <\n",
    "less than or equal to?:     <=\n",
    "greater than?:              >\n",
    "greater than or equal to?:  >=\n",
    "equal?:                     ==\n",
    "not equal?:                 !=\n",
    "\n",
    "```\n",
    "These operators compare two Python objects and return either `True` or `False`"
   ]
  },
  {
   "cell_type": "code",
   "execution_count": 21,
   "metadata": {},
   "outputs": [
    {
     "name": "stdout",
     "output_type": "stream",
     "text": [
      "Is x < y?  - False\n",
      "Is x <= y? - False\n",
      "Is x > y?  - True\n",
      "Is x >= y? - True\n",
      "Is x == y? - False\n",
      "Is x != y? - True\n"
     ]
    }
   ],
   "source": [
    "x = 5\n",
    "y = 2\n",
    "print(\"Is x < y?  -\", x < y)\n",
    "print(\"Is x <= y? -\", x <= y)\n",
    "print(\"Is x > y?  -\", x > y)\n",
    "print(\"Is x >= y? -\", x >= y)\n",
    "print(\"Is x == y? -\", x == y)\n",
    "print(\"Is x != y? -\", x != y)"
   ]
  },
  {
   "cell_type": "markdown",
   "metadata": {},
   "source": [
    "Notice that the truth value of a comparison itself can be assigned as a variable."
   ]
  },
  {
   "cell_type": "code",
   "execution_count": 22,
   "metadata": {},
   "outputs": [
    {
     "name": "stdout",
     "output_type": "stream",
     "text": [
      "True\n"
     ]
    }
   ],
   "source": [
    "u = x > y\n",
    "print(u)"
   ]
  },
  {
   "cell_type": "markdown",
   "metadata": {},
   "source": [
    "Also, notice that the None variable type is not zero (and therefore cannot be added to intergers)."
   ]
  },
  {
   "cell_type": "code",
   "execution_count": 23,
   "metadata": {},
   "outputs": [
    {
     "name": "stdout",
     "output_type": "stream",
     "text": [
      "Is N == 0? - False\n"
     ]
    }
   ],
   "source": [
    "N = None\n",
    "print(\"Is N == 0? -\", N == 0)"
   ]
  },
  {
   "cell_type": "markdown",
   "metadata": {},
   "source": [
    "#### Boolean Logic Operators and Short Circuiting\n",
    "Another very important and useful class of operators in Python include the boolean logical operators:\n",
    "```\n",
    "and: Return \"True\" when both are \"True\".\n",
    "or:  Return \"True\" when at least one is \"True\".\n",
    "not: Return the negation of the following expression.\n",
    "```"
   ]
  },
  {
   "cell_type": "code",
   "execution_count": 24,
   "metadata": {},
   "outputs": [
    {
     "name": "stdout",
     "output_type": "stream",
     "text": [
      "T and T?      - True\n",
      "T and F?      - False\n",
      "T or F?       - True\n",
      "F or F?       - False\n",
      "T and not T?  - False\n",
      "T or not T?   - True\n"
     ]
    }
   ],
   "source": [
    "T = True\n",
    "F = False\n",
    "print(\"T and T?      -\", T and T)\n",
    "print(\"T and F?      -\", T and F)\n",
    "print(\"T or F?       -\", T or F)\n",
    "print(\"F or F?       -\", F or F)\n",
    "print(\"T and not T?  -\", T and not T)\n",
    "print(\"T or not T?   -\", T or not T)"
   ]
  },
  {
   "cell_type": "markdown",
   "metadata": {},
   "source": [
    "Be aware that the order of operations of these logical operations follow:\n",
    "\n",
    "1) not\n",
    "\n",
    "2) and\n",
    "\n",
    "3) or\n",
    "\n",
    "So to be sure that you code works like you want it to you may need to use parentheses."
   ]
  },
  {
   "cell_type": "code",
   "execution_count": 25,
   "metadata": {},
   "outputs": [
    {
     "data": {
      "text/plain": [
       "True"
      ]
     },
     "execution_count": 25,
     "metadata": {},
     "output_type": "execute_result"
    }
   ],
   "source": [
    "not T and not T or T"
   ]
  },
  {
   "cell_type": "code",
   "execution_count": 26,
   "metadata": {},
   "outputs": [
    {
     "data": {
      "text/plain": [
       "False"
      ]
     },
     "execution_count": 26,
     "metadata": {},
     "output_type": "execute_result"
    }
   ],
   "source": [
    "not T and (not T or T)"
   ]
  },
  {
   "cell_type": "markdown",
   "metadata": {},
   "source": [
    "Notice, logical operators and comparison operators can be combined!"
   ]
  },
  {
   "cell_type": "code",
   "execution_count": 27,
   "metadata": {},
   "outputs": [
    {
     "name": "stdout",
     "output_type": "stream",
     "text": [
      "u and u?    - True\n",
      "u and not u - False\n",
      "u or u?     - True\n",
      "u or not u  - True\n"
     ]
    }
   ],
   "source": [
    "x = 5\n",
    "y = 2\n",
    "u = x > y\n",
    "print(\"u and u?    -\", u and u)\n",
    "print(\"u and not u -\", u and not u)\n",
    "print(\"u or u?     -\", u or u)\n",
    "print(\"u or not u  -\", u or not u)"
   ]
  },
  {
   "cell_type": "markdown",
   "metadata": {},
   "source": [
    "Notice further that an interger is always has a bool value of `True` unless it is zero, a string has a bool value of `True` unless it is empty (`''`), and likewise a list has a bool value of `True` unless it is empty (`[]`)."
   ]
  },
  {
   "cell_type": "code",
   "execution_count": 28,
   "metadata": {},
   "outputs": [
    {
     "name": "stdout",
     "output_type": "stream",
     "text": [
      "True\n",
      "True\n",
      "False\n"
     ]
    }
   ],
   "source": [
    "print(bool(1))\n",
    "print(bool('cat'))\n",
    "print(bool([]))"
   ]
  },
  {
   "cell_type": "markdown",
   "metadata": {},
   "source": [
    "The order in which boolean operations are presented matters, as Python will evaluate each statement until the boolean value can be determined.  This is called short circuiting.  Here's some examples concerning `or`."
   ]
  },
  {
   "cell_type": "code",
   "execution_count": 29,
   "metadata": {},
   "outputs": [
    {
     "name": "stdout",
     "output_type": "stream",
     "text": [
      "True or 5  : True\n",
      "5 or True  : 5\n",
      "False or 5 : 5\n",
      "4 or 5     : 4\n"
     ]
    }
   ],
   "source": [
    "print(\"True or 5  :\", True or 5)  # Second condition is not evaluated because only one True is needed to determine \"or\".\n",
    "print(\"5 or True  :\", 5 or True)  # Second condition is not evaluated because only one 5 is needed to determine \"or\".\n",
    "print(\"False or 5 :\", False or 5) # Second condition is evaluated because the Truth of the \"or\" statement cannot be \n",
    "                                  # determined from a single False.\n",
    "print(\"4 or 5     :\", 4 or 5)     # Second condition is not evaluated because only one True is needed to determine \"or\"."
   ]
  },
  {
   "cell_type": "markdown",
   "metadata": {},
   "source": [
    "The logic is opposite for `and`."
   ]
  },
  {
   "cell_type": "code",
   "execution_count": 30,
   "metadata": {},
   "outputs": [
    {
     "name": "stdout",
     "output_type": "stream",
     "text": [
      "True and 5  : 5\n",
      "5 and True  : True\n",
      "False and 5 : False\n",
      "4 and 5     : 5\n"
     ]
    }
   ],
   "source": [
    "print(\"True and 5  :\", True and 5)\n",
    "print(\"5 and True  :\", 5 and True)\n",
    "print(\"False and 5 :\", False and 5)\n",
    "print(\"4 and 5     :\", 4 and 5)"
   ]
  },
  {
   "cell_type": "markdown",
   "metadata": {},
   "source": [
    "There are also bitwise logical operatioins: and - `&`, or - `|`. keep these in mind, sometimes you will need to use them."
   ]
  },
  {
   "cell_type": "code",
   "execution_count": 31,
   "metadata": {},
   "outputs": [
    {
     "name": "stdout",
     "output_type": "stream",
     "text": [
      "16\n",
      "31\n"
     ]
    }
   ],
   "source": [
    "print(16 & 31) # Is 16 because 16 (01000) and 31 (11111) is 16 because each bit will be 1 unless both are 1.\n",
    "print(16 | 31) # is 31 because 16 (01000) or 31 (11111) if 31 because each bit will be zero unless either are 1. "
   ]
  },
  {
   "cell_type": "markdown",
   "metadata": {},
   "source": [
    "### Importing Packages\n",
    "Python has many functions built in, but more than likely any funcitons of interest need to be imported from another packages.  To import a package the syntax is to use: import name_of package."
   ]
  },
  {
   "cell_type": "code",
   "execution_count": 32,
   "metadata": {},
   "outputs": [
    {
     "name": "stdout",
     "output_type": "stream",
     "text": [
      "The Zen of Python, by Tim Peters\n",
      "\n",
      "Beautiful is better than ugly.\n",
      "Explicit is better than implicit.\n",
      "Simple is better than complex.\n",
      "Complex is better than complicated.\n",
      "Flat is better than nested.\n",
      "Sparse is better than dense.\n",
      "Readability counts.\n",
      "Special cases aren't special enough to break the rules.\n",
      "Although practicality beats purity.\n",
      "Errors should never pass silently.\n",
      "Unless explicitly silenced.\n",
      "In the face of ambiguity, refuse the temptation to guess.\n",
      "There should be one-- and preferably only one --obvious way to do it.\n",
      "Although that way may not be obvious at first unless you're Dutch.\n",
      "Now is better than never.\n",
      "Although never is often better than *right* now.\n",
      "If the implementation is hard to explain, it's a bad idea.\n",
      "If the implementation is easy to explain, it may be a good idea.\n",
      "Namespaces are one honking great idea -- let's do more of those!\n"
     ]
    }
   ],
   "source": [
    "import this"
   ]
  },
  {
   "cell_type": "markdown",
   "metadata": {},
   "source": [
    "For ease of use you can rename the package the name of your choice for recall."
   ]
  },
  {
   "cell_type": "code",
   "execution_count": 33,
   "metadata": {},
   "outputs": [],
   "source": [
    "import numpy as np"
   ]
  },
  {
   "cell_type": "markdown",
   "metadata": {},
   "source": [
    "You can call functions, etc. from the packages with the `.` notation."
   ]
  },
  {
   "cell_type": "code",
   "execution_count": 34,
   "metadata": {},
   "outputs": [
    {
     "data": {
      "text/plain": [
       "2.0"
      ]
     },
     "execution_count": 34,
     "metadata": {},
     "output_type": "execute_result"
    }
   ],
   "source": [
    "np.mean((1, 3)) # the mean() function takes the arithmetic mean of the provided numbers"
   ]
  },
  {
   "cell_type": "markdown",
   "metadata": {},
   "source": [
    "You can also import a specific function, class, etc. from a package."
   ]
  },
  {
   "cell_type": "code",
   "execution_count": 35,
   "metadata": {},
   "outputs": [
    {
     "data": {
      "text/plain": [
       "2.0"
      ]
     },
     "execution_count": 35,
     "metadata": {},
     "output_type": "execute_result"
    }
   ],
   "source": [
    "from numpy import mean\n",
    "mean((1, 3))"
   ]
  },
  {
   "cell_type": "markdown",
   "metadata": {},
   "source": [
    "## Intermediate Syntax\n",
    "### Lists\n",
    "A list is denoted with `[` and `]`, it contains elements separated by `,`.  A list can contrain multiple python types.  Each element is indexed with an interger starting from `0` and can be retrieved with the syntax `My_list[index]`.  Take note, in Python counting _always_ starts from 0 not 1."
   ]
  },
  {
   "cell_type": "code",
   "execution_count": 36,
   "metadata": {},
   "outputs": [
    {
     "name": "stdout",
     "output_type": "stream",
     "text": [
      "[1, 2, 3, 4]\n",
      "['cat', 'in', 'the', 'hat']\n",
      "[1, 'cat', 3, 'dog']\n"
     ]
    }
   ],
   "source": [
    "The_First_List = [1, 2, 3, 4]\n",
    "The_Second_List = ['cat', 'in', 'the', 'hat']\n",
    "The_Third_List = [1, 'cat', 3, 'dog']\n",
    "print(The_First_List)\n",
    "print(The_Second_List)\n",
    "print(The_Third_List)"
   ]
  },
  {
   "cell_type": "code",
   "execution_count": 37,
   "metadata": {},
   "outputs": [
    {
     "name": "stdout",
     "output_type": "stream",
     "text": [
      "1\n",
      "2\n",
      "3\n",
      "4\n"
     ]
    }
   ],
   "source": [
    "The_First_List = [1, 2, 3, 4]\n",
    "print(The_First_List[0]) # return the first element\n",
    "print(The_First_List[1]) # return the second element\n",
    "print(The_First_List[2]) # return the third element\n",
    "print(The_First_List[3]) # return the fourth element"
   ]
  },
  {
   "cell_type": "markdown",
   "metadata": {},
   "source": [
    "Note, the index can be negated."
   ]
  },
  {
   "cell_type": "code",
   "execution_count": 38,
   "metadata": {},
   "outputs": [
    {
     "name": "stdout",
     "output_type": "stream",
     "text": [
      "4\n",
      "3\n",
      "2\n",
      "1\n"
     ]
    }
   ],
   "source": [
    "The_First_List = [1, 2, 3, 4]\n",
    "print(The_First_List[-1]) # return the last element\n",
    "print(The_First_List[-2]) # return the second last element\n",
    "print(The_First_List[-3]) # return the third last element\n",
    "print(The_First_List[-4]) # return the fourth last element"
   ]
  },
  {
   "cell_type": "markdown",
   "metadata": {},
   "source": [
    "Lists can be constructed out of lists, this is called a \"nested\" list."
   ]
  },
  {
   "cell_type": "code",
   "execution_count": 39,
   "metadata": {},
   "outputs": [
    {
     "data": {
      "text/plain": [
       "[[1, 2, 3, 4], ['cat', 'in', 'the', 'hat']]"
      ]
     },
     "execution_count": 39,
     "metadata": {},
     "output_type": "execute_result"
    }
   ],
   "source": [
    "New_List = [The_First_List, The_Second_List]\n",
    "New_List"
   ]
  },
  {
   "cell_type": "markdown",
   "metadata": {},
   "source": [
    "The number of elements within a list can be returned using the `len()` function."
   ]
  },
  {
   "cell_type": "code",
   "execution_count": 40,
   "metadata": {},
   "outputs": [
    {
     "data": {
      "text/plain": [
       "2"
      ]
     },
     "execution_count": 40,
     "metadata": {},
     "output_type": "execute_result"
    }
   ],
   "source": [
    "len(New_List) # Lenght of the outer list."
   ]
  },
  {
   "cell_type": "code",
   "execution_count": 41,
   "metadata": {},
   "outputs": [
    {
     "data": {
      "text/plain": [
       "4"
      ]
     },
     "execution_count": 41,
     "metadata": {},
     "output_type": "execute_result"
    }
   ],
   "source": [
    "len(New_List[0]) # Lenght of the first inner list."
   ]
  },
  {
   "cell_type": "markdown",
   "metadata": {},
   "source": [
    "Finally, two useful functions to keep track of with the boolean logic operators are `any()` and `all()`."
   ]
  },
  {
   "cell_type": "code",
   "execution_count": 42,
   "metadata": {},
   "outputs": [],
   "source": [
    "bool_list = [True, True, True, False]"
   ]
  },
  {
   "cell_type": "code",
   "execution_count": 43,
   "metadata": {},
   "outputs": [
    {
     "data": {
      "text/plain": [
       "True"
      ]
     },
     "execution_count": 43,
     "metadata": {},
     "output_type": "execute_result"
    }
   ],
   "source": [
    "any(bool_list) # Returns True if at least one True is presented to the function."
   ]
  },
  {
   "cell_type": "code",
   "execution_count": 44,
   "metadata": {},
   "outputs": [
    {
     "data": {
      "text/plain": [
       "False"
      ]
     },
     "execution_count": 44,
     "metadata": {},
     "output_type": "execute_result"
    }
   ],
   "source": [
    "all(bool_list) # Returns True if everything presented to the function is True."
   ]
  },
  {
   "cell_type": "markdown",
   "metadata": {},
   "source": [
    "### Slicing\n",
    "Multiple specific elements within a list (and some other Python objects, e.g. dataframes), can be called using the slicing method `:`.  The syntax of this method follows: `List_name[first_element:element after last element]`.  Be aware that the index after the `:` is the index after the element to be called, e.g. `[0:4]` would call the first four elements, while `[0:3]` would only call the first three elements."
   ]
  },
  {
   "cell_type": "code",
   "execution_count": 45,
   "metadata": {},
   "outputs": [
    {
     "name": "stdout",
     "output_type": "stream",
     "text": [
      "['cat']\n",
      "['in', 'the']\n",
      "['hat']\n"
     ]
    }
   ],
   "source": [
    "The_Second_List = ['cat', 'in', 'the', 'hat']\n",
    "print(The_Second_List[0:1])\n",
    "print(The_Second_List[1:3])\n",
    "print(The_Second_List[3:4])"
   ]
  },
  {
   "cell_type": "markdown",
   "metadata": {},
   "source": [
    "Further, only one index need to be given to slice.  Slicing can also be negated."
   ]
  },
  {
   "cell_type": "code",
   "execution_count": 46,
   "metadata": {},
   "outputs": [
    {
     "data": {
      "text/plain": [
       "['hat']"
      ]
     },
     "execution_count": 46,
     "metadata": {},
     "output_type": "execute_result"
    }
   ],
   "source": [
    "The_Second_List[3:] # From the third element on, obtains the remaining elements in a list."
   ]
  },
  {
   "cell_type": "code",
   "execution_count": 47,
   "metadata": {},
   "outputs": [
    {
     "data": {
      "text/plain": [
       "['cat', 'in', 'the']"
      ]
     },
     "execution_count": 47,
     "metadata": {},
     "output_type": "execute_result"
    }
   ],
   "source": [
    "The_Second_List[:3] # Obtains the first three elements in a list."
   ]
  },
  {
   "cell_type": "code",
   "execution_count": 48,
   "metadata": {},
   "outputs": [
    {
     "data": {
      "text/plain": [
       "['cat', 'in']"
      ]
     },
     "execution_count": 48,
     "metadata": {},
     "output_type": "execute_result"
    }
   ],
   "source": [
    "The_Second_List[:-2] # Obtains everything except the last two element in the list."
   ]
  },
  {
   "cell_type": "code",
   "execution_count": 49,
   "metadata": {},
   "outputs": [
    {
     "data": {
      "text/plain": [
       "['the', 'hat']"
      ]
     },
     "execution_count": 49,
     "metadata": {},
     "output_type": "execute_result"
    }
   ],
   "source": [
    "The_Second_List[-2:] # Obtains everything except the first two element in the list."
   ]
  },
  {
   "cell_type": "markdown",
   "metadata": {},
   "source": [
    "Elements can be appended to the end of a list using the `append()` function."
   ]
  },
  {
   "cell_type": "code",
   "execution_count": 50,
   "metadata": {},
   "outputs": [
    {
     "data": {
      "text/plain": [
       "['cat', 'in', 'the', 'hat', '!']"
      ]
     },
     "execution_count": 50,
     "metadata": {},
     "output_type": "execute_result"
    }
   ],
   "source": [
    "The_Second_List.append('!')\n",
    "The_Second_List"
   ]
  },
  {
   "cell_type": "markdown",
   "metadata": {},
   "source": [
    "The index for a particular value can be found if it is not known using the `index()` function."
   ]
  },
  {
   "cell_type": "code",
   "execution_count": 51,
   "metadata": {},
   "outputs": [
    {
     "data": {
      "text/plain": [
       "1"
      ]
     },
     "execution_count": 51,
     "metadata": {},
     "output_type": "execute_result"
    }
   ],
   "source": [
    "The_Second_List.index('in')"
   ]
  },
  {
   "cell_type": "code",
   "execution_count": 52,
   "metadata": {},
   "outputs": [
    {
     "data": {
      "text/plain": [
       "'in'"
      ]
     },
     "execution_count": 52,
     "metadata": {},
     "output_type": "execute_result"
    }
   ],
   "source": [
    "The_Second_List[1]"
   ]
  },
  {
   "cell_type": "markdown",
   "metadata": {},
   "source": [
    "Using the index, we can reassign the value of the list."
   ]
  },
  {
   "cell_type": "code",
   "execution_count": 53,
   "metadata": {},
   "outputs": [
    {
     "data": {
      "text/plain": [
       "['cat', 'on', 'the', 'hat', '!']"
      ]
     },
     "execution_count": 53,
     "metadata": {},
     "output_type": "execute_result"
    }
   ],
   "source": [
    "The_Second_List[1] = 'on'\n",
    "The_Second_List"
   ]
  },
  {
   "cell_type": "markdown",
   "metadata": {},
   "source": [
    "We can also check if an element is in a list with the syntax `element in list`.  Note, we can apply the same boolean logic from above."
   ]
  },
  {
   "cell_type": "code",
   "execution_count": 54,
   "metadata": {},
   "outputs": [
    {
     "data": {
      "text/plain": [
       "True"
      ]
     },
     "execution_count": 54,
     "metadata": {},
     "output_type": "execute_result"
    }
   ],
   "source": [
    "'cat' in The_Second_List"
   ]
  },
  {
   "cell_type": "code",
   "execution_count": 55,
   "metadata": {},
   "outputs": [
    {
     "data": {
      "text/plain": [
       "False"
      ]
     },
     "execution_count": 55,
     "metadata": {},
     "output_type": "execute_result"
    }
   ],
   "source": [
    "'cat' not in The_Second_List"
   ]
  },
  {
   "cell_type": "markdown",
   "metadata": {},
   "source": [
    "### Revisiting Strings\n",
    "Strings are denoted with the use of `'` or `\"` and recall from above that strings can be concatenated."
   ]
  },
  {
   "cell_type": "code",
   "execution_count": 56,
   "metadata": {},
   "outputs": [
    {
     "data": {
      "text/plain": [
       "'cathat'"
      ]
     },
     "execution_count": 56,
     "metadata": {},
     "output_type": "execute_result"
    }
   ],
   "source": [
    "string_1 = \"cat\"\n",
    "string_2 = 'hat'\n",
    "string_1 + string_2"
   ]
  },
  {
   "cell_type": "code",
   "execution_count": 57,
   "metadata": {},
   "outputs": [
    {
     "data": {
      "text/plain": [
       "'cat in the hat'"
      ]
     },
     "execution_count": 57,
     "metadata": {},
     "output_type": "execute_result"
    }
   ],
   "source": [
    "string_1 + ' in the '+ string_2"
   ]
  },
  {
   "cell_type": "markdown",
   "metadata": {},
   "source": [
    "But strings also share some similar syntax with lists.  For example, each part of a string can be called by its index just like a list, the length of a string can be determined with `len()`, and strings can be sliced just like lists."
   ]
  },
  {
   "cell_type": "code",
   "execution_count": 58,
   "metadata": {},
   "outputs": [
    {
     "data": {
      "text/plain": [
       "'c'"
      ]
     },
     "execution_count": 58,
     "metadata": {},
     "output_type": "execute_result"
    }
   ],
   "source": [
    "string_1[0]"
   ]
  },
  {
   "cell_type": "code",
   "execution_count": 59,
   "metadata": {},
   "outputs": [
    {
     "data": {
      "text/plain": [
       "'t'"
      ]
     },
     "execution_count": 59,
     "metadata": {},
     "output_type": "execute_result"
    }
   ],
   "source": [
    "string_1[-1]"
   ]
  },
  {
   "cell_type": "code",
   "execution_count": 60,
   "metadata": {},
   "outputs": [
    {
     "data": {
      "text/plain": [
       "3"
      ]
     },
     "execution_count": 60,
     "metadata": {},
     "output_type": "execute_result"
    }
   ],
   "source": [
    "len(string_1)"
   ]
  },
  {
   "cell_type": "code",
   "execution_count": 61,
   "metadata": {},
   "outputs": [
    {
     "data": {
      "text/plain": [
       "'ca'"
      ]
     },
     "execution_count": 61,
     "metadata": {},
     "output_type": "execute_result"
    }
   ],
   "source": [
    "string_1[0:2]"
   ]
  },
  {
   "cell_type": "markdown",
   "metadata": {},
   "source": [
    "Beware, strings are not lists.  You cannot assign a value to a string."
   ]
  },
  {
   "cell_type": "code",
   "execution_count": 62,
   "metadata": {},
   "outputs": [
    {
     "ename": "TypeError",
     "evalue": "'str' object does not support item assignment",
     "output_type": "error",
     "traceback": [
      "\u001b[1;31m---------------------------------------------------------------------------\u001b[0m",
      "\u001b[1;31mTypeError\u001b[0m                                 Traceback (most recent call last)",
      "\u001b[1;32m<ipython-input-62-159b3e59b8d2>\u001b[0m in \u001b[0;36m<module>\u001b[1;34m\u001b[0m\n\u001b[1;32m----> 1\u001b[1;33m \u001b[0mstring_1\u001b[0m\u001b[1;33m[\u001b[0m\u001b[1;36m0\u001b[0m\u001b[1;33m]\u001b[0m \u001b[1;33m=\u001b[0m \u001b[1;34m'b'\u001b[0m\u001b[1;33m\u001b[0m\u001b[1;33m\u001b[0m\u001b[0m\n\u001b[0m",
      "\u001b[1;31mTypeError\u001b[0m: 'str' object does not support item assignment"
     ]
    }
   ],
   "source": [
    "string_1[0] = 'b'"
   ]
  },
  {
   "cell_type": "markdown",
   "metadata": {},
   "source": [
    "As with most things in Python there are many ways to manipulate variables, here are just a few examples involving strings."
   ]
  },
  {
   "cell_type": "code",
   "execution_count": 63,
   "metadata": {},
   "outputs": [],
   "source": [
    "quote = 'The Answer to the Great Question... Of Life, the Universe and Everything... Is... Forty-two.'"
   ]
  },
  {
   "cell_type": "code",
   "execution_count": 64,
   "metadata": {},
   "outputs": [
    {
     "data": {
      "text/plain": [
       "2"
      ]
     },
     "execution_count": 64,
     "metadata": {},
     "output_type": "execute_result"
    }
   ],
   "source": [
    "quote.count('a') # Returns a count of the number of lowercase a's in the string."
   ]
  },
  {
   "cell_type": "code",
   "execution_count": 65,
   "metadata": {},
   "outputs": [
    {
     "data": {
      "text/plain": [
       "82"
      ]
     },
     "execution_count": 65,
     "metadata": {},
     "output_type": "execute_result"
    }
   ],
   "source": [
    "quote.index('Forty-two') # Returns the index of the first letter of this string if \"Forty-two\" is matched.\n",
    "                         # In this case \"F\" with the index 82 is returned."
   ]
  },
  {
   "cell_type": "code",
   "execution_count": 66,
   "metadata": {},
   "outputs": [
    {
     "data": {
      "text/plain": [
       "['The Answer to the Great Question... Of Life',\n",
       " ' the Universe and Everything... Is... Forty-two.']"
      ]
     },
     "execution_count": 66,
     "metadata": {},
     "output_type": "execute_result"
    }
   ],
   "source": [
    "quote.split(',') # Returns a list of strings that comprise the parts of the original string separated by \",\"."
   ]
  },
  {
   "cell_type": "markdown",
   "metadata": {},
   "source": [
    "### Dictionaries\n",
    "Dictionaries are denoted with `{` and `}` and, similarly to a list, thier elements are separated by a `,`.  However, ulike a list a dictionary is _unordered_ and its elements are defined by a `key : value` pair.  Dictionaries can be very useful so remember them.  Specifically, the use of a dictionary is much faster than a list because a dictionary is a hash."
   ]
  },
  {
   "cell_type": "code",
   "execution_count": 67,
   "metadata": {},
   "outputs": [
    {
     "data": {
      "text/plain": [
       "{'cat': 'hat', 1: 2}"
      ]
     },
     "execution_count": 67,
     "metadata": {},
     "output_type": "execute_result"
    }
   ],
   "source": [
    "d = {} # An empty dictionary.\n",
    "d = {'cat':'hat', 1:2} # Initializing a dictionary with two elements.\n",
    "d"
   ]
  },
  {
   "cell_type": "code",
   "execution_count": 68,
   "metadata": {},
   "outputs": [
    {
     "data": {
      "text/plain": [
       "'hat'"
      ]
     },
     "execution_count": 68,
     "metadata": {},
     "output_type": "execute_result"
    }
   ],
   "source": [
    "d['cat'] # Calling a value by its key."
   ]
  },
  {
   "cell_type": "code",
   "execution_count": 69,
   "metadata": {},
   "outputs": [
    {
     "data": {
      "text/plain": [
       "{'cat': 'hat', 1: 2, 'bat': 'cave'}"
      ]
     },
     "execution_count": 69,
     "metadata": {},
     "output_type": "execute_result"
    }
   ],
   "source": [
    "d['bat'] = 'cave' # Adding an element to the dictionary.\n",
    "d"
   ]
  },
  {
   "cell_type": "code",
   "execution_count": 70,
   "metadata": {},
   "outputs": [
    {
     "data": {
      "text/plain": [
       "{'cat': 'yarn', 1: 2, 'bat': 'cave'}"
      ]
     },
     "execution_count": 70,
     "metadata": {},
     "output_type": "execute_result"
    }
   ],
   "source": [
    "d['cat'] = 'yarn' # Changing a value by its key.\n",
    "d"
   ]
  },
  {
   "cell_type": "code",
   "execution_count": 71,
   "metadata": {},
   "outputs": [
    {
     "data": {
      "text/plain": [
       "{'cat': 'yarn', 1: 2}"
      ]
     },
     "execution_count": 71,
     "metadata": {},
     "output_type": "execute_result"
    }
   ],
   "source": [
    "del d['bat'] # Removing a dictionary value by its key\n",
    "d"
   ]
  },
  {
   "cell_type": "markdown",
   "metadata": {},
   "source": [
    "Dictionaries and lists can be extremely useful in storing complex variables (e.g. dataframes - more on this later)."
   ]
  },
  {
   "cell_type": "code",
   "execution_count": 72,
   "metadata": {},
   "outputs": [
    {
     "name": "stdout",
     "output_type": "stream",
     "text": [
      "f                          :  {'my_list_1': ['1', 1, ['one'], 1.0], 'my_list_2': [{'two': [2.0, 'two'], '2_int': 2}, '2']}\n",
      "f['my_list_2']             :  [{'two': [2.0, 'two'], '2_int': 2}, '2']\n",
      "f['my_list_2'][0]          :  {'two': [2.0, 'two'], '2_int': 2}\n",
      "f['my_list_2'][0]['two']   :  [2.0, 'two']\n",
      "f['my_list_2'][0]['two'][1]: two\n"
     ]
    }
   ],
   "source": [
    "a_list = ['1', 1, ['one'], 1.0]\n",
    "b_list = [{'two': [2.0, 'two'], '2_int': 2}, '2']\n",
    "f = {'my_list_1':a_list, 'my_list_2':b_list}\n",
    "print(\"f                          : \", f)\n",
    "print(\"f['my_list_2']             : \", f['my_list_2'])\n",
    "print(\"f['my_list_2'][0]          : \", f['my_list_2'][0])\n",
    "print(\"f['my_list_2'][0]['two']   : \", f['my_list_2'][0]['two'])\n",
    "print(\"f['my_list_2'][0]['two'][1]:\", f['my_list_2'][0]['two'][1])"
   ]
  },
  {
   "cell_type": "markdown",
   "metadata": {},
   "source": [
    "As can be reasoned, many of the things we have already done can be applied to dictionaries."
   ]
  },
  {
   "cell_type": "code",
   "execution_count": 73,
   "metadata": {},
   "outputs": [
    {
     "data": {
      "text/plain": [
       "{1: True, 2: False}"
      ]
     },
     "execution_count": 73,
     "metadata": {},
     "output_type": "execute_result"
    }
   ],
   "source": [
    "d = {1:5 < 6, 2: 'cat' == 'mouse'}\n",
    "d"
   ]
  },
  {
   "cell_type": "code",
   "execution_count": 74,
   "metadata": {},
   "outputs": [
    {
     "data": {
      "text/plain": [
       "2"
      ]
     },
     "execution_count": 74,
     "metadata": {},
     "output_type": "execute_result"
    }
   ],
   "source": [
    "len(d)"
   ]
  },
  {
   "cell_type": "code",
   "execution_count": 75,
   "metadata": {},
   "outputs": [
    {
     "name": "stdout",
     "output_type": "stream",
     "text": [
      "[True, False]\n"
     ]
    },
    {
     "data": {
      "text/plain": [
       "False"
      ]
     },
     "execution_count": 75,
     "metadata": {},
     "output_type": "execute_result"
    }
   ],
   "source": [
    "print([d[1], d[2]])\n",
    "all([d[1], d[2]])"
   ]
  },
  {
   "cell_type": "markdown",
   "metadata": {},
   "source": [
    "Notice again that intergers have a bool value of `True`."
   ]
  },
  {
   "cell_type": "code",
   "execution_count": 76,
   "metadata": {},
   "outputs": [
    {
     "data": {
      "text/plain": [
       "True"
      ]
     },
     "execution_count": 76,
     "metadata": {},
     "output_type": "execute_result"
    }
   ],
   "source": [
    "all(d) # Return \"True\" if all keys of the dictionary are true (or if the dictionary is empty)."
   ]
  },
  {
   "cell_type": "markdown",
   "metadata": {},
   "source": [
    "## Advanced Syntax\n",
    "### White space and indentation\n",
    "Up until now we have not used whitespace to denote parent and child code blocks.  Python is a fairly unique language in that child code blocks are denoted through whitespace indentation of lines (as opposed to using an explicit delimiter e.g. `{` and `}`).  Code blocks are important because they clearly express how certain lines of code are connected.  In Python, technically any amount of whitespace denotes the move to a new child block, but the standard is to use one `TAB` (or four whitespaces) to denote a new child block.  This makes code very readable and quick to construct.  The following advanced syntax topics all use parent and child blocks in thier syntax.\n",
    "\n",
    "The syntax is:\n",
    "```\n",
    "parent_block:\n",
    "    child_block\n",
    "```\n"
   ]
  },
  {
   "cell_type": "markdown",
   "metadata": {},
   "source": [
    "### Conditional statements\n",
    "Conditional statements can be used to determine execution of a line.  Conditional statements consists of three forms:\n",
    "```\n",
    "if                              : If the current statement is True, execute.\n",
    "elif (used following if or elif): If the prior statement was False and the current statement is true, execute.\n",
    "else (used following if or elif): If the prior statement was False, execute.\n",
    "```\n",
    "\n",
    "The syntax is:\n",
    "\n",
    "if:\n",
    "```\n",
    "if <boolean_value>:\n",
    "    execute code\n",
    "```\n",
    "\n",
    "elif:\n",
    "```\n",
    "if <boolean_value>:\n",
    "    execute code\n",
    "<can have multiple elif statements here>\n",
    "elif <boolean_value>:\n",
    "    execute code\n",
    "```\n",
    "\n",
    "else:\n",
    "```\n",
    "if <boolean_value>:\n",
    "    execute code\n",
    "<can have multiple elif statements here>\n",
    "else:\n",
    "    execute code\n",
    "```"
   ]
  },
  {
   "cell_type": "code",
   "execution_count": 77,
   "metadata": {},
   "outputs": [
    {
     "name": "stdout",
     "output_type": "stream",
     "text": [
      "It's equal to 5.\n"
     ]
    }
   ],
   "source": [
    "i = 5\n",
    "\n",
    "if i == 5:\n",
    "    print(\"It's equal to 5.\") # Prints because i == 5 returns \"True\"."
   ]
  },
  {
   "cell_type": "code",
   "execution_count": 78,
   "metadata": {},
   "outputs": [
    {
     "name": "stdout",
     "output_type": "stream",
     "text": [
      "It's equal to 5.\n"
     ]
    }
   ],
   "source": [
    "if i == 4:\n",
    "    print(\"It's equal to 4.\") # Does not print because i == 4 returns \"False\".\n",
    "elif i == 5:\n",
    "    print(\"It's equal to 5.\") # Prints because i == 5 returns \"True\"."
   ]
  },
  {
   "cell_type": "code",
   "execution_count": 79,
   "metadata": {},
   "outputs": [
    {
     "name": "stdout",
     "output_type": "stream",
     "text": [
      "Well it's not equal to 4 or 3 or 2.\n"
     ]
    }
   ],
   "source": [
    "if i == 4:\n",
    "    print(\"It's equal to 4.\") # Does not print because i == 4 returns \"False\".\n",
    "elif i == 3:\n",
    "    print(\"It's equal to 3.\") # Does not print because i == 3 returns \"False\".\n",
    "elif i == 2:\n",
    "    print(\"It's equal to 2.\") # Does not print because i == 2 returns \"False\".\n",
    "else:\n",
    "    print(\"Well it's not equal to 4 or 3 or 2.\") # Prints because the other statements were \"False\"."
   ]
  },
  {
   "cell_type": "markdown",
   "metadata": {},
   "source": [
    "For any conditional statement if a prior conditional statement is `True`, then that conditional statement is skipped."
   ]
  },
  {
   "cell_type": "code",
   "execution_count": 80,
   "metadata": {},
   "outputs": [
    {
     "name": "stdout",
     "output_type": "stream",
     "text": [
      "It's equal to 5.\n"
     ]
    }
   ],
   "source": [
    "if i == 5:\n",
    "    print(\"It's equal to 5.\") # Prints because i == 5 returns \"True\".\n",
    "else:\n",
    "    print(\"This will not be printed\") # Does not print because the prior statement returns \"True\"."
   ]
  },
  {
   "cell_type": "markdown",
   "metadata": {},
   "source": [
    "Of course these statements work with many things, like boolean logic."
   ]
  },
  {
   "cell_type": "code",
   "execution_count": 81,
   "metadata": {},
   "outputs": [
    {
     "name": "stdout",
     "output_type": "stream",
     "text": [
      "It's 1 or 2.\n",
      "It's between 1 and 3.\n"
     ]
    }
   ],
   "source": [
    "a = 2\n",
    "\n",
    "if (a == 1) or (a == 2):\n",
    "    print(\"It's 1 or 2.\") # Prints because the if statement was \"True\".\n",
    "else:\n",
    "    print(\"It's not 1 or 2.\") # This code was skipped because the \"if\" statement was \"True\"\n",
    "    \n",
    "if (a > 1) and (a < 3):\n",
    "    print(\"It's between 1 and 3.\") # Prints because the other statements were \"False\".\n",
    "else:\n",
    "    print(\"It's not between 1 and 3.\") # This code was skipped because the \"if\" statement was \"True\""
   ]
  },
  {
   "cell_type": "markdown",
   "metadata": {},
   "source": [
    "### Loops\n",
    "There are two types of loops in Python, the `while` loop and the `for` loop.\n",
    "\n",
    "The syntax for these loops is as follows:\n",
    "\n",
    "```\n",
    "while <comparison is True>:\n",
    "    <execute the chold block here>\n",
    "```\n",
    "\n",
    "```\n",
    "for <element> in <interable>:\n",
    "    <execute the child block here>\n",
    "```\n",
    "\n",
    "For loops can also be written in a more compact format called \"list comprehension\" when a for loop is being used to directly build a list.\n",
    "\n",
    "```\n",
    "[<execute this statement> for <element> in <iterable>]\n",
    "```\n",
    "\n",
    "if statements can also be included within the syntax of the for loop.\n",
    "\n",
    "```\n",
    "[<execute this statement> for <element> in <iterable> if <condition>]\n",
    "```"
   ]
  },
  {
   "cell_type": "code",
   "execution_count": 82,
   "metadata": {},
   "outputs": [
    {
     "name": "stdout",
     "output_type": "stream",
     "text": [
      "1\n",
      "2\n",
      "3\n",
      "4\n",
      "5\n"
     ]
    }
   ],
   "source": [
    "i = 1\n",
    "while i <= 5: # While the variable ,\"i\", is less than or equal to 10, print the variable, \"i\"\n",
    "    print(i)\n",
    "    i = i + 1 # Notice this line updates the while loop so that it does not iterate forever."
   ]
  },
  {
   "cell_type": "code",
   "execution_count": 83,
   "metadata": {},
   "outputs": [
    {
     "name": "stdout",
     "output_type": "stream",
     "text": [
      "1\n",
      "2\n",
      "3\n",
      "4\n",
      "5\n"
     ]
    }
   ],
   "source": [
    "v = [1, 2, 3, 4, 5]\n",
    "for i in v: # For each element, \"i\", in the list, \"v\", print the element \"i\".\n",
    "    print(i)"
   ]
  },
  {
   "cell_type": "code",
   "execution_count": 84,
   "metadata": {},
   "outputs": [
    {
     "data": {
      "text/plain": [
       "[1, 2, 3, 4, 5]"
      ]
     },
     "execution_count": 84,
     "metadata": {},
     "output_type": "execute_result"
    }
   ],
   "source": [
    "w = [1, 2, 3, 4, 5, 6, 7, 8, 9, 10]\n",
    "[i for i in w if i <= 5] # Same as the loop above except the elements are returned directly into a list.  \n",
    "                         # Also notice the conditional statement is used."
   ]
  },
  {
   "cell_type": "markdown",
   "metadata": {},
   "source": [
    "Note that `while` loops and `for` loops iterate across iterators or things that can be iterated, not just lists."
   ]
  },
  {
   "cell_type": "code",
   "execution_count": 85,
   "metadata": {},
   "outputs": [
    {
     "data": {
      "text/plain": [
       "[0, 1, 2, 3, 4, 5]"
      ]
     },
     "execution_count": 85,
     "metadata": {},
     "output_type": "execute_result"
    }
   ],
   "source": [
    "[i for i in range(10) if i <= 5] # This range funciton creates an iterator from 0 until 9.  \n",
    "                                 # The results are the same as above."
   ]
  },
  {
   "cell_type": "markdown",
   "metadata": {},
   "source": [
    "One last very useful trick is iterating across an index rather than a list or data directly.  By looping in this fashing you can use the index on multiple pieces of data, lists, etc.  Keep this in mind."
   ]
  },
  {
   "cell_type": "code",
   "execution_count": 86,
   "metadata": {},
   "outputs": [
    {
     "name": "stdout",
     "output_type": "stream",
     "text": [
      "ae\n",
      "bf\n",
      "cg\n",
      "dh\n"
     ]
    }
   ],
   "source": [
    "p = ['a', 'b', 'c', 'd']\n",
    "q = ['e', 'f', 'g', 'h']\n",
    "for i in range(len(p)):\n",
    "    print(p[i]+q[i])"
   ]
  },
  {
   "cell_type": "markdown",
   "metadata": {},
   "source": [
    "### Functions (Functional programming)\n",
    "A function is a block reusable code that is used to perform a single, related action.  It can have zero or many inputs and have zero or many outputs.\n",
    "\n",
    "The Syntax for defining a funciton is as follows:\n",
    "```\n",
    "def <name of funciton>(<inputs separated by ,'s>):\n",
    "    \n",
    "    <child block to be executed here>\n",
    "    \n",
    "    return(<outputs of the funciton separated by ,'s>)\n",
    "```"
   ]
  },
  {
   "cell_type": "code",
   "execution_count": 87,
   "metadata": {},
   "outputs": [
    {
     "data": {
      "text/plain": [
       "'This is a string!'"
      ]
     },
     "execution_count": 87,
     "metadata": {},
     "output_type": "execute_result"
    }
   ],
   "source": [
    "w = 'This is a string'\n",
    "\n",
    "def My_Amazing_Function(variables_that_I_like):\n",
    "    \n",
    "    out = variables_that_I_like + '!'\n",
    "    \n",
    "    return(out)\n",
    "\n",
    "My_Amazing_Function(w)"
   ]
  },
  {
   "cell_type": "markdown",
   "metadata": {},
   "source": [
    "Notice a function does not need inputs or outputs to function, but when outputs are given the output of the function can be assigned to a variable.  When no output is given an implicit `None` is returned."
   ]
  },
  {
   "cell_type": "code",
   "execution_count": 88,
   "metadata": {},
   "outputs": [
    {
     "data": {
      "text/plain": [
       "'cats in hats'"
      ]
     },
     "execution_count": 88,
     "metadata": {},
     "output_type": "execute_result"
    }
   ],
   "source": [
    "def My_Amazing_Function_2(): # No inputs are defined and the funciton will always output the \"out\" string.\n",
    "    \n",
    "    out = \"cats in hats\"\n",
    "    \n",
    "    return(out)\n",
    "\n",
    "My_Amazing_Function_2()"
   ]
  },
  {
   "cell_type": "code",
   "execution_count": 89,
   "metadata": {},
   "outputs": [],
   "source": [
    "w = \"cats in hats\"\n",
    "def My_Amazing_Function_3(w): # No outputs are defined, so the function returns \"None\".\n",
    "    \n",
    "    out = \"cats in hats\"\n",
    "\n",
    "My_Amazing_Function_3(w)"
   ]
  },
  {
   "cell_type": "code",
   "execution_count": 90,
   "metadata": {},
   "outputs": [
    {
     "name": "stdout",
     "output_type": "stream",
     "text": [
      "cats in hats\n"
     ]
    }
   ],
   "source": [
    "w = \"cats in hats\"\n",
    "def My_Amazing_Function_4(w): # Outputs are assigned to a variable for later use.\n",
    "    \n",
    "    out = \"cats in hats\"\n",
    "    \n",
    "    return(out)\n",
    "\n",
    "output = My_Amazing_Function_4(w)\n",
    "print(output)"
   ]
  },
  {
   "cell_type": "markdown",
   "metadata": {},
   "source": [
    "Other functions like the `print()` function can also be used to output the results of a function."
   ]
  },
  {
   "cell_type": "code",
   "execution_count": 91,
   "metadata": {},
   "outputs": [
    {
     "name": "stdout",
     "output_type": "stream",
     "text": [
      "cats in hats\n"
     ]
    }
   ],
   "source": [
    "w = \"cats in hats\"\n",
    "def My_Amazing_Function_5(w):\n",
    "    print(\"cats in hats\")\n",
    "    \n",
    "My_Amazing_Function_5(w)"
   ]
  },
  {
   "cell_type": "markdown",
   "metadata": {},
   "source": [
    "Finally funcitons can be used within functions.  This is the essence of what is called functional programming, where a sequence of functions are called from an initial input to provide a final output."
   ]
  },
  {
   "cell_type": "code",
   "execution_count": 92,
   "metadata": {},
   "outputs": [
    {
     "name": "stdout",
     "output_type": "stream",
     "text": [
      "This is a list and this is a string!\n"
     ]
    }
   ],
   "source": [
    "w = 'This is a string'\n",
    "v = [w, 'This is a list']\n",
    "\n",
    "def My_Amazing_Function(variables_that_I_like):\n",
    "    \n",
    "    out = variables_that_I_like + '!'\n",
    "    \n",
    "    return(out)\n",
    "\n",
    "def Inception(something, whatever):\n",
    "    \n",
    "    out = something + ' and ' + My_Amazing_Function(whatever).lower() # \".lower()\" makes every letter in a string lowercase.\n",
    "    \n",
    "    return(out)\n",
    "    \n",
    "output = Inception(v[1], w)\n",
    "print(output)"
   ]
  },
  {
   "cell_type": "markdown",
   "metadata": {},
   "source": [
    "### Classes (Object oriented programming)\n",
    "In addition to functions pythong also carries something called classes.  These are Python objects that can be thought of as a \"meta function\" or an object that can take on different properties depending on what method of the class it was created from is being called.\n",
    "\n",
    "The syntax for creating a class is:\n",
    "```\n",
    "class <name of class>(<what object the class inherits from>):\n",
    "    def __init__(self, <variable inpus separated by ,'s>):\n",
    "        self.<variable_1>\n",
    "        ...\n",
    "        self.<variable_X>\n",
    "    <additional funcitons can be added in this block>\n",
    "```\n",
    "\n",
    "The most notable quality of a class is its ability to inherient from other classes.  For example below we will create a class called \"Person\", which will inherit from the default Python `object` class.  Notice that the first function, called `__init__()`, is a special funciton that is used to initialize the class and define the initial attributes of the class.  In this example we will initialize the \"Person\" class with a name and age attribute."
   ]
  },
  {
   "cell_type": "code",
   "execution_count": 93,
   "metadata": {},
   "outputs": [
    {
     "name": "stdout",
     "output_type": "stream",
     "text": [
      "Jack\n",
      "30\n"
     ]
    }
   ],
   "source": [
    "class Person(object):\n",
    "    def __init__(self, name, age):\n",
    "        self.name = name\n",
    "        self.age = age\n",
    "\n",
    "Jack = Person(name='Jack', age=30) # Here we use the class to create a person named Jack who is 30 years of age.\n",
    "print(Jack.name)\n",
    "print(Jack.age)"
   ]
  },
  {
   "cell_type": "markdown",
   "metadata": {},
   "source": [
    "Notice from the above example why I describe a class as a meta funciton.  In this case an object is created using the Person class and it can take on the value of \"Jack\" with the use of the `.name` method and \"30\" with the use of the `.age` method."
   ]
  },
  {
   "cell_type": "markdown",
   "metadata": {},
   "source": [
    "We can also add as many funcitonal methods to our class as we would like."
   ]
  },
  {
   "cell_type": "code",
   "execution_count": 94,
   "metadata": {},
   "outputs": [
    {
     "name": "stdout",
     "output_type": "stream",
     "text": [
      "Jack greets Robert and says:  \"Hello Robert.\"\n",
      "Robert greets Jack and says:  \"Hello Jack.\"\n"
     ]
    }
   ],
   "source": [
    "class Person(object):\n",
    "    def __init__(self, name, age):\n",
    "        self.name = name\n",
    "        self.age = age\n",
    "    def greet(self, other): # Now we add a funciton that gives our person objects the ability to greet other person objects.\n",
    "        return(\"Hello %s.\" % other.name) # the \"%\" is used to repace \"%s\" with whatever comes after \"%\"\n",
    "        \n",
    "Jack = Person(name='Jack', age=30)\n",
    "Robert = Person(name='Robert', age=33)\n",
    "\n",
    "print(\"Jack greets Robert and says: \", '\"' + Jack.greet(Robert) + '\"')\n",
    "print(\"Robert greets Jack and says: \", '\"' + Robert.greet(Jack) + '\"')"
   ]
  },
  {
   "cell_type": "markdown",
   "metadata": {},
   "source": [
    "As stated before, one of the most powerful attributes of classes is the ability to inherient from other classes.  "
   ]
  },
  {
   "cell_type": "code",
   "execution_count": 95,
   "metadata": {},
   "outputs": [
    {
     "name": "stdout",
     "output_type": "stream",
     "text": [
      "Jack greets Robert and says:  \"Hello Patterson.\"\n",
      "Robert greets Jack and says:  \"Leave me alone Jack!\"\n"
     ]
    }
   ],
   "source": [
    "class Person(object):\n",
    "    def __init__(self, name, age):\n",
    "        self.name = name\n",
    "        self.age = age\n",
    "    def greet(self, other):\n",
    "        return(\"Hello %s.\" % other.name)\n",
    "        \n",
    "class Jerk(Person): # Here we create another class that directly inherients from our Person class.\n",
    "    def greet(self, other): # This class inherits all the attributes from Person and then overrides the greet function.\n",
    "        return(\"Leave me alone %s!\" % other.name)\n",
    "    \n",
    "Robert = Person('Robert', 33)\n",
    "Patterson = Jerk('Patterson', 25)\n",
    "\n",
    "print(\"Jack greets Robert and says: \", '\"' + Jack.greet(Patterson) + '\"')\n",
    "print(\"Robert greets Jack and says: \", '\"' + Patterson.greet(Jack) + '\"')"
   ]
  },
  {
   "cell_type": "code",
   "execution_count": 96,
   "metadata": {},
   "outputs": [
    {
     "name": "stdout",
     "output_type": "stream",
     "text": [
      "Hello Patterson.\n",
      "Leave me alone Robert!\n"
     ]
    }
   ],
   "source": [
    "class Person(object):\n",
    "  # For initializing our instance objects\n",
    "    def __init__(self, name, age): # initialize the object here\n",
    "        self.name = name\n",
    "        self.age = age\n",
    "    def greet(self, other):\n",
    "        print(\"Hello %s.\" % other.name)\n",
    "        \n",
    "class Jerk(Person): # Another object inheriting from the Person class\n",
    "    def greet(self, other): #Overriding greet function\n",
    "            print(\"Leave me alone %s!\" % other.name)\n",
    "\n",
    "# Making our People\n",
    "Robert = Person('Robert', 33)\n",
    "Patterson = Jerk('Patterson', 62)\n",
    "\n",
    "# Let's take a look\n",
    "# How old is each person:\n",
    "Robert.age\n",
    "Patterson.age\n",
    "\n",
    "# How do they treat eachother:\n",
    "Robert.greet(Patterson)\n",
    "Patterson.greet(Robert)"
   ]
  },
  {
   "cell_type": "markdown",
   "metadata": {},
   "source": [
    "## Using the syntax in commonly used packages.\n",
    "Note: There are many Python libraries, the following are a sample of a few common ones."
   ]
  },
  {
   "cell_type": "markdown",
   "metadata": {},
   "source": [
    "### Numpy\n",
    "Among other things Numpy is \"a Python library that provides a multidimensional array object, various derived objects (such as masked arrays and matrices), and an assortment of routines for fast operations on arrays, including mathematical, logical, shape manipulation, sorting, selecting, I/O, discrete Fourier transforms, basic linear algebra, basic statistical operations, random simulation and much more\".  Essentially Numpy is the package that allows one to practice empirical linear algebra within python."
   ]
  },
  {
   "cell_type": "markdown",
   "metadata": {},
   "source": [
    "#### Basics"
   ]
  },
  {
   "cell_type": "code",
   "execution_count": 97,
   "metadata": {},
   "outputs": [],
   "source": [
    "import numpy as np"
   ]
  },
  {
   "cell_type": "markdown",
   "metadata": {},
   "source": [
    "A vector in R^n space can easily be created usning the `.array()` method of Numpy.  Here we will make a vector existing in R^4 space."
   ]
  },
  {
   "cell_type": "code",
   "execution_count": 98,
   "metadata": {},
   "outputs": [
    {
     "data": {
      "text/plain": [
       "array([1, 2, 3, 4])"
      ]
     },
     "execution_count": 98,
     "metadata": {},
     "output_type": "execute_result"
    }
   ],
   "source": [
    "V = np.array([1, 2, 3, 4])\n",
    "V"
   ]
  },
  {
   "cell_type": "markdown",
   "metadata": {},
   "source": [
    "Numpy arrays support all the typical vector (matirx) operations."
   ]
  },
  {
   "cell_type": "code",
   "execution_count": 99,
   "metadata": {},
   "outputs": [
    {
     "data": {
      "text/plain": [
       "array([2, 4, 6, 8])"
      ]
     },
     "execution_count": 99,
     "metadata": {},
     "output_type": "execute_result"
    }
   ],
   "source": [
    "V + V # Element wise addition."
   ]
  },
  {
   "cell_type": "code",
   "execution_count": 100,
   "metadata": {},
   "outputs": [
    {
     "data": {
      "text/plain": [
       "array([ 1,  4,  9, 16])"
      ]
     },
     "execution_count": 100,
     "metadata": {},
     "output_type": "execute_result"
    }
   ],
   "source": [
    "V * V # Element wise multiplication"
   ]
  },
  {
   "cell_type": "code",
   "execution_count": 101,
   "metadata": {},
   "outputs": [
    {
     "data": {
      "text/plain": [
       "30"
      ]
     },
     "execution_count": 101,
     "metadata": {},
     "output_type": "execute_result"
    }
   ],
   "source": [
    "V @ V # The dot product."
   ]
  },
  {
   "cell_type": "markdown",
   "metadata": {},
   "source": [
    "Any n X n X n . . . matrix can also be constructed."
   ]
  },
  {
   "cell_type": "code",
   "execution_count": 102,
   "metadata": {},
   "outputs": [
    {
     "data": {
      "text/plain": [
       "array([[0, 1, 2, 3],\n",
       "       [0, 1, 2, 3],\n",
       "       [0, 1, 2, 3],\n",
       "       [0, 1, 2, 3]])"
      ]
     },
     "execution_count": 102,
     "metadata": {},
     "output_type": "execute_result"
    }
   ],
   "source": [
    "M_2 = np.array([list(range(4)) for i in range(4)])\n",
    "M_2 # A 4 x 4 Matrix."
   ]
  },
  {
   "cell_type": "code",
   "execution_count": 103,
   "metadata": {},
   "outputs": [
    {
     "data": {
      "text/plain": [
       "array([[[0, 1, 2, 3],\n",
       "        [0, 1, 2, 3],\n",
       "        [0, 1, 2, 3],\n",
       "        [0, 1, 2, 3]],\n",
       "\n",
       "       [[0, 1, 2, 3],\n",
       "        [0, 1, 2, 3],\n",
       "        [0, 1, 2, 3],\n",
       "        [0, 1, 2, 3]],\n",
       "\n",
       "       [[0, 1, 2, 3],\n",
       "        [0, 1, 2, 3],\n",
       "        [0, 1, 2, 3],\n",
       "        [0, 1, 2, 3]],\n",
       "\n",
       "       [[0, 1, 2, 3],\n",
       "        [0, 1, 2, 3],\n",
       "        [0, 1, 2, 3],\n",
       "        [0, 1, 2, 3]]])"
      ]
     },
     "execution_count": 103,
     "metadata": {},
     "output_type": "execute_result"
    }
   ],
   "source": [
    "M_3 = np.array([[list(range(4)) for i in range(4)] for i in range(4)])\n",
    "M_3 # A 4 X 4 X 4 Matrix."
   ]
  },
  {
   "cell_type": "markdown",
   "metadata": {},
   "source": [
    "The shape of a matrix can be identified using the `.shape` method."
   ]
  },
  {
   "cell_type": "code",
   "execution_count": 104,
   "metadata": {},
   "outputs": [
    {
     "data": {
      "text/plain": [
       "(4, 4, 4)"
      ]
     },
     "execution_count": 104,
     "metadata": {},
     "output_type": "execute_result"
    }
   ],
   "source": [
    "M_3.shape"
   ]
  },
  {
   "cell_type": "markdown",
   "metadata": {},
   "source": [
    "Numpy arrays can also be reshaped given the proper dimensions."
   ]
  },
  {
   "cell_type": "code",
   "execution_count": 105,
   "metadata": {},
   "outputs": [
    {
     "data": {
      "text/plain": [
       "array([[0, 1, 2, 3],\n",
       "       [0, 1, 2, 3],\n",
       "       [0, 1, 2, 3],\n",
       "       [0, 1, 2, 3],\n",
       "       [0, 1, 2, 3],\n",
       "       [0, 1, 2, 3],\n",
       "       [0, 1, 2, 3],\n",
       "       [0, 1, 2, 3],\n",
       "       [0, 1, 2, 3],\n",
       "       [0, 1, 2, 3],\n",
       "       [0, 1, 2, 3],\n",
       "       [0, 1, 2, 3],\n",
       "       [0, 1, 2, 3],\n",
       "       [0, 1, 2, 3],\n",
       "       [0, 1, 2, 3],\n",
       "       [0, 1, 2, 3]])"
      ]
     },
     "execution_count": 105,
     "metadata": {},
     "output_type": "execute_result"
    }
   ],
   "source": [
    "M_3.reshape(16, 4)"
   ]
  },
  {
   "cell_type": "markdown",
   "metadata": {},
   "source": [
    "Elements in a Numpy array can be acquired through the proper index."
   ]
  },
  {
   "cell_type": "code",
   "execution_count": 106,
   "metadata": {},
   "outputs": [
    {
     "name": "stdout",
     "output_type": "stream",
     "text": [
      "[[0 1 2 3]\n",
      " [0 1 2 3]\n",
      " [0 1 2 3]\n",
      " [0 1 2 3]]\n"
     ]
    },
    {
     "data": {
      "text/plain": [
       "2"
      ]
     },
     "execution_count": 106,
     "metadata": {},
     "output_type": "execute_result"
    }
   ],
   "source": [
    "print(M_2)\n",
    "M_2[2,2] # Third row, Third column."
   ]
  },
  {
   "cell_type": "code",
   "execution_count": 107,
   "metadata": {},
   "outputs": [
    {
     "name": "stdout",
     "output_type": "stream",
     "text": [
      "[[0 1 2 3]\n",
      " [0 1 2 3]\n",
      " [0 1 2 3]\n",
      " [0 1 2 3]]\n"
     ]
    },
    {
     "data": {
      "text/plain": [
       "array([0, 0, 0, 0])"
      ]
     },
     "execution_count": 107,
     "metadata": {},
     "output_type": "execute_result"
    }
   ],
   "source": [
    "print(M_2)\n",
    "M_2[:, 0] # First Column."
   ]
  },
  {
   "cell_type": "markdown",
   "metadata": {},
   "source": [
    "Matrix multipication can be executed just like vector multiplication.  The inverse and transpoce, etc. are all viable options as well."
   ]
  },
  {
   "cell_type": "code",
   "execution_count": 108,
   "metadata": {},
   "outputs": [
    {
     "name": "stdout",
     "output_type": "stream",
     "text": [
      "[[0 1 2 3]\n",
      " [0 1 2 3]\n",
      " [0 1 2 3]\n",
      " [0 1 2 3]]\n"
     ]
    },
    {
     "data": {
      "text/plain": [
       "array([[ 0,  6, 12, 18],\n",
       "       [ 0,  6, 12, 18],\n",
       "       [ 0,  6, 12, 18],\n",
       "       [ 0,  6, 12, 18]])"
      ]
     },
     "execution_count": 108,
     "metadata": {},
     "output_type": "execute_result"
    }
   ],
   "source": [
    "print(M_2)\n",
    "M_2 @ M_2 # Matrix multiplication."
   ]
  },
  {
   "cell_type": "code",
   "execution_count": 109,
   "metadata": {},
   "outputs": [
    {
     "name": "stdout",
     "output_type": "stream",
     "text": [
      "[[0 1 2 3]\n",
      " [0 1 2 3]\n",
      " [0 1 2 3]\n",
      " [0 1 2 3]]\n"
     ]
    },
    {
     "data": {
      "text/plain": [
       "array([[0, 0, 0, 0],\n",
       "       [1, 1, 1, 1],\n",
       "       [2, 2, 2, 2],\n",
       "       [3, 3, 3, 3]])"
      ]
     },
     "execution_count": 109,
     "metadata": {},
     "output_type": "execute_result"
    }
   ],
   "source": [
    "print(M_2)\n",
    "M_2.T # Matrix transpose."
   ]
  },
  {
   "cell_type": "code",
   "execution_count": 110,
   "metadata": {},
   "outputs": [
    {
     "name": "stdout",
     "output_type": "stream",
     "text": [
      "[[0.49672216 0.62560704]\n",
      " [0.17440472 0.58546434]]\n"
     ]
    },
    {
     "data": {
      "text/plain": [
       "array([[ 3.22207217, -3.44299537],\n",
       "       [-0.95982719,  2.73368423]])"
      ]
     },
     "execution_count": 110,
     "metadata": {},
     "output_type": "execute_result"
    }
   ],
   "source": [
    "Random_Matrix = np.random.rand(2,2) # Numpy as many options for random generation and other generation methods.\n",
    "print(Random_Matrix)\n",
    "np.linalg.inv(Random_Matrix) # Matrix inverse"
   ]
  },
  {
   "cell_type": "markdown",
   "metadata": {},
   "source": [
    "Note that Numpy also has a specific matrix class, which has some different attributes than arrays.  For example the inverse can be found with the simple `.I` method and `*` is defined as matrix multiplication for objects of the matrix class.  Be aware of these differences."
   ]
  },
  {
   "cell_type": "code",
   "execution_count": 111,
   "metadata": {},
   "outputs": [
    {
     "name": "stdout",
     "output_type": "stream",
     "text": [
      "[[1 2]\n",
      " [3 4]]\n",
      "[[ 7 10]\n",
      " [15 22]]\n",
      "[[-2.   1. ]\n",
      " [ 1.5 -0.5]]\n"
     ]
    }
   ],
   "source": [
    "L = np.matrix([[1, 2], [3, 4]])\n",
    "print(L)\n",
    "print(L * L) # Matrix multiplication\n",
    "print(L.I) # Matrix inverse"
   ]
  },
  {
   "cell_type": "markdown",
   "metadata": {},
   "source": [
    "### Pandas\n",
    "Pandas is a library that provides high performance and easy to use datastructures (dataframes) to manipulate and analyze data"
   ]
  },
  {
   "cell_type": "markdown",
   "metadata": {},
   "source": [
    "#### Basics"
   ]
  },
  {
   "cell_type": "code",
   "execution_count": 112,
   "metadata": {},
   "outputs": [],
   "source": [
    "import pandas as pd"
   ]
  },
  {
   "cell_type": "markdown",
   "metadata": {},
   "source": [
    "Lets start by importing the data from the repo.  This can be done in Pandas through the `.read_csv()` funciton, which will create a dataframe which can be saved to a variable and used in later analysis."
   ]
  },
  {
   "cell_type": "code",
   "execution_count": 113,
   "metadata": {},
   "outputs": [
    {
     "data": {
      "text/html": [
       "<div>\n",
       "<style scoped>\n",
       "    .dataframe tbody tr th:only-of-type {\n",
       "        vertical-align: middle;\n",
       "    }\n",
       "\n",
       "    .dataframe tbody tr th {\n",
       "        vertical-align: top;\n",
       "    }\n",
       "\n",
       "    .dataframe thead th {\n",
       "        text-align: right;\n",
       "    }\n",
       "</style>\n",
       "<table border=\"1\" class=\"dataframe\">\n",
       "  <thead>\n",
       "    <tr style=\"text-align: right;\">\n",
       "      <th></th>\n",
       "      <th>HRS</th>\n",
       "      <th>RATE</th>\n",
       "      <th>ERSP</th>\n",
       "      <th>ERNO</th>\n",
       "      <th>NEIN</th>\n",
       "      <th>ASSET</th>\n",
       "      <th>AGE</th>\n",
       "      <th>DEP</th>\n",
       "      <th>RACE</th>\n",
       "      <th>SCHOOL</th>\n",
       "    </tr>\n",
       "  </thead>\n",
       "  <tbody>\n",
       "    <tr>\n",
       "      <td>0</td>\n",
       "      <td>2157</td>\n",
       "      <td>2.905</td>\n",
       "      <td>1121</td>\n",
       "      <td>291</td>\n",
       "      <td>380</td>\n",
       "      <td>7250</td>\n",
       "      <td>38.5</td>\n",
       "      <td>2.340</td>\n",
       "      <td>32.1</td>\n",
       "      <td>10.5</td>\n",
       "    </tr>\n",
       "    <tr>\n",
       "      <td>1</td>\n",
       "      <td>2174</td>\n",
       "      <td>2.970</td>\n",
       "      <td>1128</td>\n",
       "      <td>301</td>\n",
       "      <td>398</td>\n",
       "      <td>7744</td>\n",
       "      <td>39.3</td>\n",
       "      <td>2.335</td>\n",
       "      <td>31.2</td>\n",
       "      <td>10.5</td>\n",
       "    </tr>\n",
       "    <tr>\n",
       "      <td>2</td>\n",
       "      <td>2062</td>\n",
       "      <td>2.350</td>\n",
       "      <td>1214</td>\n",
       "      <td>326</td>\n",
       "      <td>185</td>\n",
       "      <td>3068</td>\n",
       "      <td>40.1</td>\n",
       "      <td>2.851</td>\n",
       "      <td>*</td>\n",
       "      <td>8.9</td>\n",
       "    </tr>\n",
       "    <tr>\n",
       "      <td>3</td>\n",
       "      <td>2111</td>\n",
       "      <td>2.511</td>\n",
       "      <td>1203</td>\n",
       "      <td>49</td>\n",
       "      <td>117</td>\n",
       "      <td>1632</td>\n",
       "      <td>22.4</td>\n",
       "      <td>1.159</td>\n",
       "      <td>27.5</td>\n",
       "      <td>11.5</td>\n",
       "    </tr>\n",
       "    <tr>\n",
       "      <td>4</td>\n",
       "      <td>2134</td>\n",
       "      <td>2.791</td>\n",
       "      <td>1013</td>\n",
       "      <td>594</td>\n",
       "      <td>730</td>\n",
       "      <td>12710</td>\n",
       "      <td>57.7</td>\n",
       "      <td>1.229</td>\n",
       "      <td>32.5</td>\n",
       "      <td>8.8</td>\n",
       "    </tr>\n",
       "  </tbody>\n",
       "</table>\n",
       "</div>"
      ],
      "text/plain": [
       "    HRS   RATE  ERSP ERNO  NEIN  ASSET   AGE    DEP  RACE  SCHOOL\n",
       "0  2157  2.905  1121  291   380   7250  38.5  2.340  32.1    10.5\n",
       "1  2174  2.970  1128  301   398   7744  39.3  2.335  31.2    10.5\n",
       "2  2062  2.350  1214  326   185   3068  40.1  2.851     *     8.9\n",
       "3  2111  2.511  1203   49   117   1632  22.4  1.159  27.5    11.5\n",
       "4  2134  2.791  1013  594   730  12710  57.7  1.229  32.5     8.8"
      ]
     },
     "execution_count": 113,
     "metadata": {},
     "output_type": "execute_result"
    }
   ],
   "source": [
    "Windows = r'C:\\Users\\Sade\\Python-JN-Demos\\\\' # Location of repo on Windows.\n",
    "Linux = r'/home/sade/Desktop/Python-JN-Demos/' # Location of repo on Linux.\n",
    "choice = Windows\n",
    "\n",
    "df = pd.read_csv(choice + 'wages_hours.csv', sep='\\t') # Reading in data from a .csv as assigning it to a dataframe.\n",
    "df.head(5) # printing out the first 5 lines of the dataframe.\n",
    "\n",
    "# Note: You can use pd.read_stata() to read stata files, but just save and use .csv; everything can read .csv."
   ]
  },
  {
   "cell_type": "markdown",
   "metadata": {},
   "source": [
    "We can easily acquire the variables within our data using the `list()` function and take a look at specific variables with the notation: df['variable of interest'] (Can also do this the \"R\" way df.variable of interest)."
   ]
  },
  {
   "cell_type": "code",
   "execution_count": 114,
   "metadata": {},
   "outputs": [
    {
     "name": "stdout",
     "output_type": "stream",
     "text": [
      "['HRS', 'RATE', 'ERSP', 'ERNO', 'NEIN', 'ASSET', 'AGE', 'DEP', 'RACE', 'SCHOOL']\n"
     ]
    }
   ],
   "source": [
    "print(list(df)) # The list() function creates a list from the input."
   ]
  },
  {
   "cell_type": "code",
   "execution_count": 115,
   "metadata": {},
   "outputs": [
    {
     "data": {
      "text/plain": [
       "0    2157\n",
       "1    2174\n",
       "2    2062\n",
       "3    2111\n",
       "4    2134\n",
       "Name: HRS, dtype: int64"
      ]
     },
     "execution_count": 115,
     "metadata": {},
     "output_type": "execute_result"
    }
   ],
   "source": [
    "df['HRS'].head(5) # Selects HRS Variable and displays the first 5 observations."
   ]
  },
  {
   "cell_type": "markdown",
   "metadata": {},
   "source": [
    "All the same mathematical operations described before can be applied to the variables in the same fashion."
   ]
  },
  {
   "cell_type": "code",
   "execution_count": 116,
   "metadata": {},
   "outputs": [],
   "source": [
    "HRS = df['HRS'] # Saving the HRS variable from the dataframe df as its own variable."
   ]
  },
  {
   "cell_type": "code",
   "execution_count": 117,
   "metadata": {},
   "outputs": [
    {
     "data": {
      "text/plain": [
       "0    2157\n",
       "1    2174\n",
       "2    2062\n",
       "3    2111\n",
       "4    2134\n",
       "Name: HRS, dtype: int64"
      ]
     },
     "execution_count": 117,
     "metadata": {},
     "output_type": "execute_result"
    }
   ],
   "source": [
    "HRS.head()"
   ]
  },
  {
   "cell_type": "code",
   "execution_count": 118,
   "metadata": {},
   "outputs": [
    {
     "data": {
      "text/plain": [
       "0    4314\n",
       "1    4348\n",
       "2    4124\n",
       "3    4222\n",
       "4    4268\n",
       "Name: HRS, dtype: int64"
      ]
     },
     "execution_count": 118,
     "metadata": {},
     "output_type": "execute_result"
    }
   ],
   "source": [
    "(HRS + HRS).head()"
   ]
  },
  {
   "cell_type": "code",
   "execution_count": 119,
   "metadata": {},
   "outputs": [
    {
     "data": {
      "text/plain": [
       "0    1.0\n",
       "1    1.0\n",
       "2    1.0\n",
       "3    1.0\n",
       "4    1.0\n",
       "Name: HRS, dtype: float64"
      ]
     },
     "execution_count": 119,
     "metadata": {},
     "output_type": "execute_result"
    }
   ],
   "source": [
    "(HRS / HRS).head()"
   ]
  },
  {
   "cell_type": "markdown",
   "metadata": {},
   "source": [
    "Multiple variables can also be defined as a subset from the original dataframe."
   ]
  },
  {
   "cell_type": "code",
   "execution_count": 120,
   "metadata": {},
   "outputs": [
    {
     "data": {
      "text/html": [
       "<div>\n",
       "<style scoped>\n",
       "    .dataframe tbody tr th:only-of-type {\n",
       "        vertical-align: middle;\n",
       "    }\n",
       "\n",
       "    .dataframe tbody tr th {\n",
       "        vertical-align: top;\n",
       "    }\n",
       "\n",
       "    .dataframe thead th {\n",
       "        text-align: right;\n",
       "    }\n",
       "</style>\n",
       "<table border=\"1\" class=\"dataframe\">\n",
       "  <thead>\n",
       "    <tr style=\"text-align: right;\">\n",
       "      <th></th>\n",
       "      <th>HRS</th>\n",
       "      <th>RATE</th>\n",
       "      <th>ERSP</th>\n",
       "      <th>ERNO</th>\n",
       "    </tr>\n",
       "  </thead>\n",
       "  <tbody>\n",
       "    <tr>\n",
       "      <td>0</td>\n",
       "      <td>2157</td>\n",
       "      <td>2.905</td>\n",
       "      <td>1121</td>\n",
       "      <td>291</td>\n",
       "    </tr>\n",
       "    <tr>\n",
       "      <td>1</td>\n",
       "      <td>2174</td>\n",
       "      <td>2.970</td>\n",
       "      <td>1128</td>\n",
       "      <td>301</td>\n",
       "    </tr>\n",
       "    <tr>\n",
       "      <td>2</td>\n",
       "      <td>2062</td>\n",
       "      <td>2.350</td>\n",
       "      <td>1214</td>\n",
       "      <td>326</td>\n",
       "    </tr>\n",
       "    <tr>\n",
       "      <td>3</td>\n",
       "      <td>2111</td>\n",
       "      <td>2.511</td>\n",
       "      <td>1203</td>\n",
       "      <td>49</td>\n",
       "    </tr>\n",
       "    <tr>\n",
       "      <td>4</td>\n",
       "      <td>2134</td>\n",
       "      <td>2.791</td>\n",
       "      <td>1013</td>\n",
       "      <td>594</td>\n",
       "    </tr>\n",
       "  </tbody>\n",
       "</table>\n",
       "</div>"
      ],
      "text/plain": [
       "    HRS   RATE  ERSP ERNO\n",
       "0  2157  2.905  1121  291\n",
       "1  2174  2.970  1128  301\n",
       "2  2062  2.350  1214  326\n",
       "3  2111  2.511  1203   49\n",
       "4  2134  2.791  1013  594"
      ]
     },
     "execution_count": 120,
     "metadata": {},
     "output_type": "execute_result"
    }
   ],
   "source": [
    "A = df[['HRS', 'RATE', 'ERSP', 'ERNO']]\n",
    "A.head()"
   ]
  },
  {
   "cell_type": "markdown",
   "metadata": {},
   "source": [
    "Dataframes can be sliced just like lists."
   ]
  },
  {
   "cell_type": "code",
   "execution_count": 121,
   "metadata": {},
   "outputs": [
    {
     "data": {
      "text/html": [
       "<div>\n",
       "<style scoped>\n",
       "    .dataframe tbody tr th:only-of-type {\n",
       "        vertical-align: middle;\n",
       "    }\n",
       "\n",
       "    .dataframe tbody tr th {\n",
       "        vertical-align: top;\n",
       "    }\n",
       "\n",
       "    .dataframe thead th {\n",
       "        text-align: right;\n",
       "    }\n",
       "</style>\n",
       "<table border=\"1\" class=\"dataframe\">\n",
       "  <thead>\n",
       "    <tr style=\"text-align: right;\">\n",
       "      <th></th>\n",
       "      <th>HRS</th>\n",
       "      <th>RATE</th>\n",
       "      <th>ERSP</th>\n",
       "      <th>ERNO</th>\n",
       "    </tr>\n",
       "  </thead>\n",
       "  <tbody>\n",
       "    <tr>\n",
       "      <td>0</td>\n",
       "      <td>2157</td>\n",
       "      <td>2.905</td>\n",
       "      <td>1121</td>\n",
       "      <td>291</td>\n",
       "    </tr>\n",
       "    <tr>\n",
       "      <td>1</td>\n",
       "      <td>2174</td>\n",
       "      <td>2.970</td>\n",
       "      <td>1128</td>\n",
       "      <td>301</td>\n",
       "    </tr>\n",
       "    <tr>\n",
       "      <td>2</td>\n",
       "      <td>2062</td>\n",
       "      <td>2.350</td>\n",
       "      <td>1214</td>\n",
       "      <td>326</td>\n",
       "    </tr>\n",
       "  </tbody>\n",
       "</table>\n",
       "</div>"
      ],
      "text/plain": [
       "    HRS   RATE  ERSP ERNO\n",
       "0  2157  2.905  1121  291\n",
       "1  2174  2.970  1128  301\n",
       "2  2062  2.350  1214  326"
      ]
     },
     "execution_count": 121,
     "metadata": {},
     "output_type": "execute_result"
    }
   ],
   "source": [
    "B = A[0:3] # Makes B the first three observations of A.\n",
    "B"
   ]
  },
  {
   "cell_type": "code",
   "execution_count": 122,
   "metadata": {},
   "outputs": [
    {
     "data": {
      "text/html": [
       "<div>\n",
       "<style scoped>\n",
       "    .dataframe tbody tr th:only-of-type {\n",
       "        vertical-align: middle;\n",
       "    }\n",
       "\n",
       "    .dataframe tbody tr th {\n",
       "        vertical-align: top;\n",
       "    }\n",
       "\n",
       "    .dataframe thead th {\n",
       "        text-align: right;\n",
       "    }\n",
       "</style>\n",
       "<table border=\"1\" class=\"dataframe\">\n",
       "  <thead>\n",
       "    <tr style=\"text-align: right;\">\n",
       "      <th></th>\n",
       "      <th>HRS</th>\n",
       "      <th>RATE</th>\n",
       "      <th>ERSP</th>\n",
       "      <th>ERNO</th>\n",
       "    </tr>\n",
       "  </thead>\n",
       "  <tbody>\n",
       "    <tr>\n",
       "      <td>38</td>\n",
       "      <td>2197</td>\n",
       "      <td>3.413</td>\n",
       "      <td>1078</td>\n",
       "      <td>300</td>\n",
       "    </tr>\n",
       "  </tbody>\n",
       "</table>\n",
       "</div>"
      ],
      "text/plain": [
       "     HRS   RATE  ERSP ERNO\n",
       "38  2197  3.413  1078  300"
      ]
     },
     "execution_count": 122,
     "metadata": {},
     "output_type": "execute_result"
    }
   ],
   "source": [
    "C = A[-1:] # Last observation of A.\n",
    "C"
   ]
  },
  {
   "cell_type": "markdown",
   "metadata": {},
   "source": [
    "Be carful here because the B and C variables refer back to the original dataframe A.  If you want something completely separate use the `.copy()` method."
   ]
  },
  {
   "cell_type": "code",
   "execution_count": 123,
   "metadata": {},
   "outputs": [
    {
     "data": {
      "text/html": [
       "<div>\n",
       "<style scoped>\n",
       "    .dataframe tbody tr th:only-of-type {\n",
       "        vertical-align: middle;\n",
       "    }\n",
       "\n",
       "    .dataframe tbody tr th {\n",
       "        vertical-align: top;\n",
       "    }\n",
       "\n",
       "    .dataframe thead th {\n",
       "        text-align: right;\n",
       "    }\n",
       "</style>\n",
       "<table border=\"1\" class=\"dataframe\">\n",
       "  <thead>\n",
       "    <tr style=\"text-align: right;\">\n",
       "      <th></th>\n",
       "      <th>HRS</th>\n",
       "      <th>RATE</th>\n",
       "      <th>ERSP</th>\n",
       "      <th>ERNO</th>\n",
       "    </tr>\n",
       "  </thead>\n",
       "  <tbody>\n",
       "    <tr>\n",
       "      <td>0</td>\n",
       "      <td>2157</td>\n",
       "      <td>2.905</td>\n",
       "      <td>1121</td>\n",
       "      <td>291</td>\n",
       "    </tr>\n",
       "    <tr>\n",
       "      <td>1</td>\n",
       "      <td>2174</td>\n",
       "      <td>2.970</td>\n",
       "      <td>1128</td>\n",
       "      <td>301</td>\n",
       "    </tr>\n",
       "    <tr>\n",
       "      <td>2</td>\n",
       "      <td>2062</td>\n",
       "      <td>2.350</td>\n",
       "      <td>1214</td>\n",
       "      <td>326</td>\n",
       "    </tr>\n",
       "    <tr>\n",
       "      <td>3</td>\n",
       "      <td>2111</td>\n",
       "      <td>2.511</td>\n",
       "      <td>1203</td>\n",
       "      <td>49</td>\n",
       "    </tr>\n",
       "    <tr>\n",
       "      <td>4</td>\n",
       "      <td>2134</td>\n",
       "      <td>2.791</td>\n",
       "      <td>1013</td>\n",
       "      <td>594</td>\n",
       "    </tr>\n",
       "  </tbody>\n",
       "</table>\n",
       "</div>"
      ],
      "text/plain": [
       "    HRS   RATE  ERSP ERNO\n",
       "0  2157  2.905  1121  291\n",
       "1  2174  2.970  1128  301\n",
       "2  2062  2.350  1214  326\n",
       "3  2111  2.511  1203   49\n",
       "4  2134  2.791  1013  594"
      ]
     },
     "execution_count": 123,
     "metadata": {},
     "output_type": "execute_result"
    }
   ],
   "source": [
    "D = A.copy()\n",
    "D.head()"
   ]
  },
  {
   "cell_type": "markdown",
   "metadata": {},
   "source": [
    "#### Slicing and Subsetting Variables\n",
    "One of the most useful attributes of dataframes is the ability to quickly slice and subset them."
   ]
  },
  {
   "cell_type": "markdown",
   "metadata": {},
   "source": [
    "For slicing the `.iloc` and `.loc` methods can be used.  These slice and subset by index or name respectively."
   ]
  },
  {
   "cell_type": "code",
   "execution_count": 124,
   "metadata": {},
   "outputs": [
    {
     "data": {
      "text/plain": [
       "12710"
      ]
     },
     "execution_count": 124,
     "metadata": {},
     "output_type": "execute_result"
    }
   ],
   "source": [
    "df.iloc[4,5] # Getting a specific value from a dataframe by row and column index."
   ]
  },
  {
   "cell_type": "code",
   "execution_count": 125,
   "metadata": {},
   "outputs": [
    {
     "data": {
      "text/html": [
       "<div>\n",
       "<style scoped>\n",
       "    .dataframe tbody tr th:only-of-type {\n",
       "        vertical-align: middle;\n",
       "    }\n",
       "\n",
       "    .dataframe tbody tr th {\n",
       "        vertical-align: top;\n",
       "    }\n",
       "\n",
       "    .dataframe thead th {\n",
       "        text-align: right;\n",
       "    }\n",
       "</style>\n",
       "<table border=\"1\" class=\"dataframe\">\n",
       "  <thead>\n",
       "    <tr style=\"text-align: right;\">\n",
       "      <th></th>\n",
       "      <th>HRS</th>\n",
       "      <th>RATE</th>\n",
       "      <th>ERSP</th>\n",
       "    </tr>\n",
       "  </thead>\n",
       "  <tbody>\n",
       "    <tr>\n",
       "      <td>0</td>\n",
       "      <td>2157</td>\n",
       "      <td>2.905</td>\n",
       "      <td>1121</td>\n",
       "    </tr>\n",
       "    <tr>\n",
       "      <td>1</td>\n",
       "      <td>2174</td>\n",
       "      <td>2.970</td>\n",
       "      <td>1128</td>\n",
       "    </tr>\n",
       "    <tr>\n",
       "      <td>2</td>\n",
       "      <td>2062</td>\n",
       "      <td>2.350</td>\n",
       "      <td>1214</td>\n",
       "    </tr>\n",
       "    <tr>\n",
       "      <td>3</td>\n",
       "      <td>2111</td>\n",
       "      <td>2.511</td>\n",
       "      <td>1203</td>\n",
       "    </tr>\n",
       "  </tbody>\n",
       "</table>\n",
       "</div>"
      ],
      "text/plain": [
       "    HRS   RATE  ERSP\n",
       "0  2157  2.905  1121\n",
       "1  2174  2.970  1128\n",
       "2  2062  2.350  1214\n",
       "3  2111  2.511  1203"
      ]
     },
     "execution_count": 125,
     "metadata": {},
     "output_type": "execute_result"
    }
   ],
   "source": [
    "df.iloc[0:4, 0:3] # Getting the first 4 observations from the first 3 variables by index."
   ]
  },
  {
   "cell_type": "code",
   "execution_count": 126,
   "metadata": {},
   "outputs": [
    {
     "data": {
      "text/html": [
       "<div>\n",
       "<style scoped>\n",
       "    .dataframe tbody tr th:only-of-type {\n",
       "        vertical-align: middle;\n",
       "    }\n",
       "\n",
       "    .dataframe tbody tr th {\n",
       "        vertical-align: top;\n",
       "    }\n",
       "\n",
       "    .dataframe thead th {\n",
       "        text-align: right;\n",
       "    }\n",
       "</style>\n",
       "<table border=\"1\" class=\"dataframe\">\n",
       "  <thead>\n",
       "    <tr style=\"text-align: right;\">\n",
       "      <th></th>\n",
       "      <th>HRS</th>\n",
       "      <th>ERNO</th>\n",
       "      <th>ASSET</th>\n",
       "    </tr>\n",
       "  </thead>\n",
       "  <tbody>\n",
       "    <tr>\n",
       "      <td>0</td>\n",
       "      <td>2157</td>\n",
       "      <td>291</td>\n",
       "      <td>7250</td>\n",
       "    </tr>\n",
       "    <tr>\n",
       "      <td>5</td>\n",
       "      <td>2185</td>\n",
       "      <td>287</td>\n",
       "      <td>7706</td>\n",
       "    </tr>\n",
       "    <tr>\n",
       "      <td>20</td>\n",
       "      <td>2084</td>\n",
       "      <td>331</td>\n",
       "      <td>5653</td>\n",
       "    </tr>\n",
       "  </tbody>\n",
       "</table>\n",
       "</div>"
      ],
      "text/plain": [
       "     HRS ERNO  ASSET\n",
       "0   2157  291   7250\n",
       "5   2185  287   7706\n",
       "20  2084  331   5653"
      ]
     },
     "execution_count": 126,
     "metadata": {},
     "output_type": "execute_result"
    }
   ],
   "source": [
    "df.iloc[[0, 5, 20], [0, 3, 5]] # Getting observation by index 0, 5, and 20 in the 0th, 3rd, and 5th variables by index."
   ]
  },
  {
   "cell_type": "code",
   "execution_count": 127,
   "metadata": {},
   "outputs": [
    {
     "data": {
      "text/html": [
       "<div>\n",
       "<style scoped>\n",
       "    .dataframe tbody tr th:only-of-type {\n",
       "        vertical-align: middle;\n",
       "    }\n",
       "\n",
       "    .dataframe tbody tr th {\n",
       "        vertical-align: top;\n",
       "    }\n",
       "\n",
       "    .dataframe thead th {\n",
       "        text-align: right;\n",
       "    }\n",
       "</style>\n",
       "<table border=\"1\" class=\"dataframe\">\n",
       "  <thead>\n",
       "    <tr style=\"text-align: right;\">\n",
       "      <th></th>\n",
       "      <th>HRS</th>\n",
       "      <th>ERNO</th>\n",
       "      <th>ASSET</th>\n",
       "    </tr>\n",
       "  </thead>\n",
       "  <tbody>\n",
       "    <tr>\n",
       "      <td>0</td>\n",
       "      <td>2157</td>\n",
       "      <td>291</td>\n",
       "      <td>7250</td>\n",
       "    </tr>\n",
       "    <tr>\n",
       "      <td>5</td>\n",
       "      <td>2185</td>\n",
       "      <td>287</td>\n",
       "      <td>7706</td>\n",
       "    </tr>\n",
       "    <tr>\n",
       "      <td>20</td>\n",
       "      <td>2084</td>\n",
       "      <td>331</td>\n",
       "      <td>5653</td>\n",
       "    </tr>\n",
       "  </tbody>\n",
       "</table>\n",
       "</div>"
      ],
      "text/plain": [
       "     HRS ERNO  ASSET\n",
       "0   2157  291   7250\n",
       "5   2185  287   7706\n",
       "20  2084  331   5653"
      ]
     },
     "execution_count": 127,
     "metadata": {},
     "output_type": "execute_result"
    }
   ],
   "source": [
    "df.loc[[0, 5, 20], ['HRS', 'ERNO', 'ASSET']] # Getting observation by index 0, 5, and 20 by variable names."
   ]
  },
  {
   "cell_type": "markdown",
   "metadata": {},
   "source": [
    "We can also subset by comparisons instead of a row index."
   ]
  },
  {
   "cell_type": "code",
   "execution_count": 128,
   "metadata": {},
   "outputs": [
    {
     "data": {
      "text/plain": [
       "0     2157\n",
       "1     2174\n",
       "5     2185\n",
       "6     2210\n",
       "8     2267\n",
       "9     2205\n",
       "14    2174\n",
       "16    2159\n",
       "17    2257\n",
       "19    2184\n",
       "26    2181\n",
       "27    2186\n",
       "29    2188\n",
       "30    2203\n",
       "32    2196\n",
       "34    2173\n",
       "35    2179\n",
       "36    2200\n",
       "38    2197\n",
       "Name: HRS, dtype: int64"
      ]
     },
     "execution_count": 128,
     "metadata": {},
     "output_type": "execute_result"
    }
   ],
   "source": [
    "np.mean(df.HRS) # mean of HRS\n",
    "df.loc[df.HRS >= np.mean(df.HRS), 'HRS'] # Subsetting the HRS variable by values greater than to equal to the mean of HRS"
   ]
  },
  {
   "cell_type": "markdown",
   "metadata": {},
   "source": [
    "Boolean masks can also be used to subset dataframes."
   ]
  },
  {
   "cell_type": "code",
   "execution_count": 129,
   "metadata": {},
   "outputs": [
    {
     "name": "stderr",
     "output_type": "stream",
     "text": [
      "C:\\Users\\Sade\\Anaconda3\\lib\\site-packages\\pandas\\core\\ops\\__init__.py:1115: FutureWarning: elementwise comparison failed; returning scalar instead, but in the future will perform elementwise comparison\n",
      "  result = method(y)\n"
     ]
    },
    {
     "data": {
      "text/html": [
       "<div>\n",
       "<style scoped>\n",
       "    .dataframe tbody tr th:only-of-type {\n",
       "        vertical-align: middle;\n",
       "    }\n",
       "\n",
       "    .dataframe tbody tr th {\n",
       "        vertical-align: top;\n",
       "    }\n",
       "\n",
       "    .dataframe thead th {\n",
       "        text-align: right;\n",
       "    }\n",
       "</style>\n",
       "<table border=\"1\" class=\"dataframe\">\n",
       "  <thead>\n",
       "    <tr style=\"text-align: right;\">\n",
       "      <th></th>\n",
       "      <th>HRS</th>\n",
       "      <th>RATE</th>\n",
       "      <th>ERSP</th>\n",
       "      <th>ERNO</th>\n",
       "      <th>NEIN</th>\n",
       "      <th>ASSET</th>\n",
       "      <th>AGE</th>\n",
       "      <th>DEP</th>\n",
       "      <th>RACE</th>\n",
       "      <th>SCHOOL</th>\n",
       "    </tr>\n",
       "  </thead>\n",
       "  <tbody>\n",
       "    <tr>\n",
       "      <td>0</td>\n",
       "      <td>2157</td>\n",
       "      <td>2.905</td>\n",
       "      <td>1121</td>\n",
       "      <td>291</td>\n",
       "      <td>380</td>\n",
       "      <td>7250</td>\n",
       "      <td>38.5</td>\n",
       "      <td>2.340</td>\n",
       "      <td>32.1</td>\n",
       "      <td>10.5</td>\n",
       "    </tr>\n",
       "    <tr>\n",
       "      <td>1</td>\n",
       "      <td>2174</td>\n",
       "      <td>2.970</td>\n",
       "      <td>1128</td>\n",
       "      <td>301</td>\n",
       "      <td>398</td>\n",
       "      <td>7744</td>\n",
       "      <td>39.3</td>\n",
       "      <td>2.335</td>\n",
       "      <td>31.2</td>\n",
       "      <td>10.5</td>\n",
       "    </tr>\n",
       "    <tr>\n",
       "      <td>2</td>\n",
       "      <td>2062</td>\n",
       "      <td>2.350</td>\n",
       "      <td>1214</td>\n",
       "      <td>326</td>\n",
       "      <td>185</td>\n",
       "      <td>3068</td>\n",
       "      <td>40.1</td>\n",
       "      <td>2.851</td>\n",
       "      <td>NaN</td>\n",
       "      <td>8.9</td>\n",
       "    </tr>\n",
       "    <tr>\n",
       "      <td>3</td>\n",
       "      <td>2111</td>\n",
       "      <td>2.511</td>\n",
       "      <td>1203</td>\n",
       "      <td>49</td>\n",
       "      <td>117</td>\n",
       "      <td>1632</td>\n",
       "      <td>22.4</td>\n",
       "      <td>1.159</td>\n",
       "      <td>27.5</td>\n",
       "      <td>11.5</td>\n",
       "    </tr>\n",
       "    <tr>\n",
       "      <td>4</td>\n",
       "      <td>2134</td>\n",
       "      <td>2.791</td>\n",
       "      <td>1013</td>\n",
       "      <td>594</td>\n",
       "      <td>730</td>\n",
       "      <td>12710</td>\n",
       "      <td>57.7</td>\n",
       "      <td>1.229</td>\n",
       "      <td>32.5</td>\n",
       "      <td>8.8</td>\n",
       "    </tr>\n",
       "  </tbody>\n",
       "</table>\n",
       "</div>"
      ],
      "text/plain": [
       "    HRS   RATE  ERSP ERNO  NEIN  ASSET   AGE    DEP  RACE  SCHOOL\n",
       "0  2157  2.905  1121  291   380   7250  38.5  2.340  32.1    10.5\n",
       "1  2174  2.970  1128  301   398   7744  39.3  2.335  31.2    10.5\n",
       "2  2062  2.350  1214  326   185   3068  40.1  2.851   NaN     8.9\n",
       "3  2111  2.511  1203   49   117   1632  22.4  1.159  27.5    11.5\n",
       "4  2134  2.791  1013  594   730  12710  57.7  1.229  32.5     8.8"
      ]
     },
     "execution_count": 129,
     "metadata": {},
     "output_type": "execute_result"
    }
   ],
   "source": [
    "mask = (df != '*') # Locating when a value in the data frame is not empty, e.g. not equal to '*'.\n",
    "df = df[mask] # rewriting the dataframe '*' values as NaN type, or as a missing data value.\n",
    "df.head()"
   ]
  },
  {
   "cell_type": "markdown",
   "metadata": {},
   "source": [
    "Missing values can be found using the `.isnull()` and `.notnull()` methods."
   ]
  },
  {
   "cell_type": "code",
   "execution_count": 130,
   "metadata": {},
   "outputs": [
    {
     "data": {
      "text/html": [
       "<div>\n",
       "<style scoped>\n",
       "    .dataframe tbody tr th:only-of-type {\n",
       "        vertical-align: middle;\n",
       "    }\n",
       "\n",
       "    .dataframe tbody tr th {\n",
       "        vertical-align: top;\n",
       "    }\n",
       "\n",
       "    .dataframe thead th {\n",
       "        text-align: right;\n",
       "    }\n",
       "</style>\n",
       "<table border=\"1\" class=\"dataframe\">\n",
       "  <thead>\n",
       "    <tr style=\"text-align: right;\">\n",
       "      <th></th>\n",
       "      <th>HRS</th>\n",
       "      <th>RATE</th>\n",
       "      <th>ERSP</th>\n",
       "      <th>ERNO</th>\n",
       "      <th>NEIN</th>\n",
       "      <th>ASSET</th>\n",
       "      <th>AGE</th>\n",
       "      <th>DEP</th>\n",
       "      <th>RACE</th>\n",
       "      <th>SCHOOL</th>\n",
       "    </tr>\n",
       "  </thead>\n",
       "  <tbody>\n",
       "    <tr>\n",
       "      <td>0</td>\n",
       "      <td>False</td>\n",
       "      <td>False</td>\n",
       "      <td>False</td>\n",
       "      <td>False</td>\n",
       "      <td>False</td>\n",
       "      <td>False</td>\n",
       "      <td>False</td>\n",
       "      <td>False</td>\n",
       "      <td>False</td>\n",
       "      <td>False</td>\n",
       "    </tr>\n",
       "    <tr>\n",
       "      <td>1</td>\n",
       "      <td>False</td>\n",
       "      <td>False</td>\n",
       "      <td>False</td>\n",
       "      <td>False</td>\n",
       "      <td>False</td>\n",
       "      <td>False</td>\n",
       "      <td>False</td>\n",
       "      <td>False</td>\n",
       "      <td>False</td>\n",
       "      <td>False</td>\n",
       "    </tr>\n",
       "    <tr>\n",
       "      <td>2</td>\n",
       "      <td>False</td>\n",
       "      <td>False</td>\n",
       "      <td>False</td>\n",
       "      <td>False</td>\n",
       "      <td>False</td>\n",
       "      <td>False</td>\n",
       "      <td>False</td>\n",
       "      <td>False</td>\n",
       "      <td>True</td>\n",
       "      <td>False</td>\n",
       "    </tr>\n",
       "    <tr>\n",
       "      <td>3</td>\n",
       "      <td>False</td>\n",
       "      <td>False</td>\n",
       "      <td>False</td>\n",
       "      <td>False</td>\n",
       "      <td>False</td>\n",
       "      <td>False</td>\n",
       "      <td>False</td>\n",
       "      <td>False</td>\n",
       "      <td>False</td>\n",
       "      <td>False</td>\n",
       "    </tr>\n",
       "    <tr>\n",
       "      <td>4</td>\n",
       "      <td>False</td>\n",
       "      <td>False</td>\n",
       "      <td>False</td>\n",
       "      <td>False</td>\n",
       "      <td>False</td>\n",
       "      <td>False</td>\n",
       "      <td>False</td>\n",
       "      <td>False</td>\n",
       "      <td>False</td>\n",
       "      <td>False</td>\n",
       "    </tr>\n",
       "  </tbody>\n",
       "</table>\n",
       "</div>"
      ],
      "text/plain": [
       "     HRS   RATE   ERSP   ERNO   NEIN  ASSET    AGE    DEP   RACE  SCHOOL\n",
       "0  False  False  False  False  False  False  False  False  False   False\n",
       "1  False  False  False  False  False  False  False  False  False   False\n",
       "2  False  False  False  False  False  False  False  False   True   False\n",
       "3  False  False  False  False  False  False  False  False  False   False\n",
       "4  False  False  False  False  False  False  False  False  False   False"
      ]
     },
     "execution_count": 130,
     "metadata": {},
     "output_type": "execute_result"
    }
   ],
   "source": [
    "df.isnull().head()"
   ]
  },
  {
   "cell_type": "code",
   "execution_count": 131,
   "metadata": {},
   "outputs": [
    {
     "data": {
      "text/html": [
       "<div>\n",
       "<style scoped>\n",
       "    .dataframe tbody tr th:only-of-type {\n",
       "        vertical-align: middle;\n",
       "    }\n",
       "\n",
       "    .dataframe tbody tr th {\n",
       "        vertical-align: top;\n",
       "    }\n",
       "\n",
       "    .dataframe thead th {\n",
       "        text-align: right;\n",
       "    }\n",
       "</style>\n",
       "<table border=\"1\" class=\"dataframe\">\n",
       "  <thead>\n",
       "    <tr style=\"text-align: right;\">\n",
       "      <th></th>\n",
       "      <th>HRS</th>\n",
       "      <th>RATE</th>\n",
       "      <th>ERSP</th>\n",
       "      <th>ERNO</th>\n",
       "      <th>NEIN</th>\n",
       "      <th>ASSET</th>\n",
       "      <th>AGE</th>\n",
       "      <th>DEP</th>\n",
       "      <th>RACE</th>\n",
       "      <th>SCHOOL</th>\n",
       "    </tr>\n",
       "  </thead>\n",
       "  <tbody>\n",
       "    <tr>\n",
       "      <td>0</td>\n",
       "      <td>True</td>\n",
       "      <td>True</td>\n",
       "      <td>True</td>\n",
       "      <td>True</td>\n",
       "      <td>True</td>\n",
       "      <td>True</td>\n",
       "      <td>True</td>\n",
       "      <td>True</td>\n",
       "      <td>True</td>\n",
       "      <td>True</td>\n",
       "    </tr>\n",
       "    <tr>\n",
       "      <td>1</td>\n",
       "      <td>True</td>\n",
       "      <td>True</td>\n",
       "      <td>True</td>\n",
       "      <td>True</td>\n",
       "      <td>True</td>\n",
       "      <td>True</td>\n",
       "      <td>True</td>\n",
       "      <td>True</td>\n",
       "      <td>True</td>\n",
       "      <td>True</td>\n",
       "    </tr>\n",
       "    <tr>\n",
       "      <td>2</td>\n",
       "      <td>True</td>\n",
       "      <td>True</td>\n",
       "      <td>True</td>\n",
       "      <td>True</td>\n",
       "      <td>True</td>\n",
       "      <td>True</td>\n",
       "      <td>True</td>\n",
       "      <td>True</td>\n",
       "      <td>False</td>\n",
       "      <td>True</td>\n",
       "    </tr>\n",
       "    <tr>\n",
       "      <td>3</td>\n",
       "      <td>True</td>\n",
       "      <td>True</td>\n",
       "      <td>True</td>\n",
       "      <td>True</td>\n",
       "      <td>True</td>\n",
       "      <td>True</td>\n",
       "      <td>True</td>\n",
       "      <td>True</td>\n",
       "      <td>True</td>\n",
       "      <td>True</td>\n",
       "    </tr>\n",
       "    <tr>\n",
       "      <td>4</td>\n",
       "      <td>True</td>\n",
       "      <td>True</td>\n",
       "      <td>True</td>\n",
       "      <td>True</td>\n",
       "      <td>True</td>\n",
       "      <td>True</td>\n",
       "      <td>True</td>\n",
       "      <td>True</td>\n",
       "      <td>True</td>\n",
       "      <td>True</td>\n",
       "    </tr>\n",
       "  </tbody>\n",
       "</table>\n",
       "</div>"
      ],
      "text/plain": [
       "    HRS  RATE  ERSP  ERNO  NEIN  ASSET   AGE   DEP   RACE  SCHOOL\n",
       "0  True  True  True  True  True   True  True  True   True    True\n",
       "1  True  True  True  True  True   True  True  True   True    True\n",
       "2  True  True  True  True  True   True  True  True  False    True\n",
       "3  True  True  True  True  True   True  True  True   True    True\n",
       "4  True  True  True  True  True   True  True  True   True    True"
      ]
     },
     "execution_count": 131,
     "metadata": {},
     "output_type": "execute_result"
    }
   ],
   "source": [
    "df.notnull().head()"
   ]
  },
  {
   "cell_type": "markdown",
   "metadata": {},
   "source": [
    "Missing values can be quickly replaced using these dataframe masks."
   ]
  },
  {
   "cell_type": "code",
   "execution_count": 132,
   "metadata": {},
   "outputs": [
    {
     "data": {
      "text/html": [
       "<div>\n",
       "<style scoped>\n",
       "    .dataframe tbody tr th:only-of-type {\n",
       "        vertical-align: middle;\n",
       "    }\n",
       "\n",
       "    .dataframe tbody tr th {\n",
       "        vertical-align: top;\n",
       "    }\n",
       "\n",
       "    .dataframe thead th {\n",
       "        text-align: right;\n",
       "    }\n",
       "</style>\n",
       "<table border=\"1\" class=\"dataframe\">\n",
       "  <thead>\n",
       "    <tr style=\"text-align: right;\">\n",
       "      <th></th>\n",
       "      <th>HRS</th>\n",
       "      <th>RATE</th>\n",
       "      <th>ERSP</th>\n",
       "      <th>ERNO</th>\n",
       "      <th>NEIN</th>\n",
       "      <th>ASSET</th>\n",
       "      <th>AGE</th>\n",
       "      <th>DEP</th>\n",
       "      <th>RACE</th>\n",
       "      <th>SCHOOL</th>\n",
       "    </tr>\n",
       "  </thead>\n",
       "  <tbody>\n",
       "    <tr>\n",
       "      <td>0</td>\n",
       "      <td>2157</td>\n",
       "      <td>2.905</td>\n",
       "      <td>1121</td>\n",
       "      <td>291</td>\n",
       "      <td>380</td>\n",
       "      <td>7250</td>\n",
       "      <td>38.5</td>\n",
       "      <td>2.340</td>\n",
       "      <td>32.1</td>\n",
       "      <td>10.5</td>\n",
       "    </tr>\n",
       "    <tr>\n",
       "      <td>1</td>\n",
       "      <td>2174</td>\n",
       "      <td>2.970</td>\n",
       "      <td>1128</td>\n",
       "      <td>301</td>\n",
       "      <td>398</td>\n",
       "      <td>7744</td>\n",
       "      <td>39.3</td>\n",
       "      <td>2.335</td>\n",
       "      <td>31.2</td>\n",
       "      <td>10.5</td>\n",
       "    </tr>\n",
       "    <tr>\n",
       "      <td>2</td>\n",
       "      <td>2062</td>\n",
       "      <td>2.350</td>\n",
       "      <td>1214</td>\n",
       "      <td>326</td>\n",
       "      <td>185</td>\n",
       "      <td>3068</td>\n",
       "      <td>40.1</td>\n",
       "      <td>2.851</td>\n",
       "      <td>0</td>\n",
       "      <td>8.9</td>\n",
       "    </tr>\n",
       "    <tr>\n",
       "      <td>3</td>\n",
       "      <td>2111</td>\n",
       "      <td>2.511</td>\n",
       "      <td>1203</td>\n",
       "      <td>49</td>\n",
       "      <td>117</td>\n",
       "      <td>1632</td>\n",
       "      <td>22.4</td>\n",
       "      <td>1.159</td>\n",
       "      <td>27.5</td>\n",
       "      <td>11.5</td>\n",
       "    </tr>\n",
       "    <tr>\n",
       "      <td>4</td>\n",
       "      <td>2134</td>\n",
       "      <td>2.791</td>\n",
       "      <td>1013</td>\n",
       "      <td>594</td>\n",
       "      <td>730</td>\n",
       "      <td>12710</td>\n",
       "      <td>57.7</td>\n",
       "      <td>1.229</td>\n",
       "      <td>32.5</td>\n",
       "      <td>8.8</td>\n",
       "    </tr>\n",
       "  </tbody>\n",
       "</table>\n",
       "</div>"
      ],
      "text/plain": [
       "    HRS   RATE  ERSP ERNO  NEIN  ASSET   AGE    DEP  RACE  SCHOOL\n",
       "0  2157  2.905  1121  291   380   7250  38.5  2.340  32.1    10.5\n",
       "1  2174  2.970  1128  301   398   7744  39.3  2.335  31.2    10.5\n",
       "2  2062  2.350  1214  326   185   3068  40.1  2.851     0     8.9\n",
       "3  2111  2.511  1203   49   117   1632  22.4  1.159  27.5    11.5\n",
       "4  2134  2.791  1013  594   730  12710  57.7  1.229  32.5     8.8"
      ]
     },
     "execution_count": 132,
     "metadata": {},
     "output_type": "execute_result"
    }
   ],
   "source": [
    "df = df.fillna(0)\n",
    "df.head()"
   ]
  },
  {
   "cell_type": "markdown",
   "metadata": {},
   "source": [
    "Because the '*' character is recognized as a string, we need to convert all the varibles to numbers to calculate the following statistics."
   ]
  },
  {
   "cell_type": "code",
   "execution_count": 133,
   "metadata": {},
   "outputs": [],
   "source": [
    "df = df.astype(float) # converting the entire dataframe to decimal number types."
   ]
  },
  {
   "cell_type": "markdown",
   "metadata": {},
   "source": [
    "Using these properties, subsetting in Python can be quite flexible."
   ]
  },
  {
   "cell_type": "code",
   "execution_count": 134,
   "metadata": {},
   "outputs": [
    {
     "data": {
      "text/plain": [
       "2      8.9\n",
       "11     8.9\n",
       "12     9.2\n",
       "13     9.1\n",
       "14    11.7\n",
       "15    10.5\n",
       "17    10.1\n",
       "18     6.6\n",
       "Name: SCHOOL, dtype: float64"
      ]
     },
     "execution_count": 134,
     "metadata": {},
     "output_type": "execute_result"
    }
   ],
   "source": [
    "df.loc[df['RACE'] == 0]['SCHOOL'] # The SCHOOL variable when RACE is 0."
   ]
  },
  {
   "cell_type": "markdown",
   "metadata": {},
   "source": [
    "New variables, (e.g. dummies) can be easily made."
   ]
  },
  {
   "cell_type": "code",
   "execution_count": 135,
   "metadata": {},
   "outputs": [
    {
     "data": {
      "text/plain": [
       "0    0\n",
       "1    0\n",
       "2    0\n",
       "3    0\n",
       "4    0\n",
       "Name: NEW_DUMMY, dtype: int64"
      ]
     },
     "execution_count": 135,
     "metadata": {},
     "output_type": "execute_result"
    }
   ],
   "source": [
    "df['NEW_DUMMY'] = 0\n",
    "df['NEW_DUMMY'].head()"
   ]
  },
  {
   "cell_type": "code",
   "execution_count": 136,
   "metadata": {},
   "outputs": [
    {
     "data": {
      "text/plain": [
       "0    1\n",
       "1    1\n",
       "2    0\n",
       "3    0\n",
       "4    0\n",
       "Name: NEW_DUMMY, dtype: int64"
      ]
     },
     "execution_count": 136,
     "metadata": {},
     "output_type": "execute_result"
    }
   ],
   "source": [
    "df.loc[(df['HRS'] >= np.mean(df['HRS'])), 'NEW_DUMMY'] = 1 # Generating a dummy when HRS is >= to its mean.\n",
    "df.NEW_DUMMY.head()"
   ]
  },
  {
   "cell_type": "markdown",
   "metadata": {},
   "source": [
    "As a corollary, statistics by group can easily be calculated using the `.groupby()` method"
   ]
  },
  {
   "cell_type": "code",
   "execution_count": 137,
   "metadata": {},
   "outputs": [
    {
     "data": {
      "text/html": [
       "<div>\n",
       "<style scoped>\n",
       "    .dataframe tbody tr th:only-of-type {\n",
       "        vertical-align: middle;\n",
       "    }\n",
       "\n",
       "    .dataframe tbody tr th {\n",
       "        vertical-align: top;\n",
       "    }\n",
       "\n",
       "    .dataframe thead th {\n",
       "        text-align: right;\n",
       "    }\n",
       "</style>\n",
       "<table border=\"1\" class=\"dataframe\">\n",
       "  <thead>\n",
       "    <tr style=\"text-align: right;\">\n",
       "      <th></th>\n",
       "      <th>HRS</th>\n",
       "      <th>RATE</th>\n",
       "      <th>ERSP</th>\n",
       "      <th>ERNO</th>\n",
       "      <th>NEIN</th>\n",
       "      <th>ASSET</th>\n",
       "      <th>AGE</th>\n",
       "      <th>DEP</th>\n",
       "      <th>RACE</th>\n",
       "      <th>SCHOOL</th>\n",
       "    </tr>\n",
       "    <tr>\n",
       "      <th>NEW_DUMMY</th>\n",
       "      <th></th>\n",
       "      <th></th>\n",
       "      <th></th>\n",
       "      <th></th>\n",
       "      <th></th>\n",
       "      <th></th>\n",
       "      <th></th>\n",
       "      <th></th>\n",
       "      <th></th>\n",
       "      <th></th>\n",
       "    </tr>\n",
       "  </thead>\n",
       "  <tbody>\n",
       "    <tr>\n",
       "      <td>0</td>\n",
       "      <td>41683.0</td>\n",
       "      <td>50.999</td>\n",
       "      <td>21117.0</td>\n",
       "      <td>5772.0</td>\n",
       "      <td>5168.0</td>\n",
       "      <td>92003.0</td>\n",
       "      <td>798.1</td>\n",
       "      <td>46.677</td>\n",
       "      <td>726.7</td>\n",
       "      <td>187.3</td>\n",
       "    </tr>\n",
       "    <tr>\n",
       "      <td>1</td>\n",
       "      <td>41675.0</td>\n",
       "      <td>57.118</td>\n",
       "      <td>19646.0</td>\n",
       "      <td>4966.0</td>\n",
       "      <td>7766.0</td>\n",
       "      <td>152342.0</td>\n",
       "      <td>736.6</td>\n",
       "      <td>44.992</td>\n",
       "      <td>450.1</td>\n",
       "      <td>202.6</td>\n",
       "    </tr>\n",
       "  </tbody>\n",
       "</table>\n",
       "</div>"
      ],
      "text/plain": [
       "               HRS    RATE     ERSP    ERNO    NEIN     ASSET    AGE     DEP  \\\n",
       "NEW_DUMMY                                                                      \n",
       "0          41683.0  50.999  21117.0  5772.0  5168.0   92003.0  798.1  46.677   \n",
       "1          41675.0  57.118  19646.0  4966.0  7766.0  152342.0  736.6  44.992   \n",
       "\n",
       "            RACE  SCHOOL  \n",
       "NEW_DUMMY                 \n",
       "0          726.7   187.3  \n",
       "1          450.1   202.6  "
      ]
     },
     "execution_count": 137,
     "metadata": {},
     "output_type": "execute_result"
    }
   ],
   "source": [
    "agg = df.groupby('NEW_DUMMY').sum() # Aggregating the dataframe on the newly made dummy variable.\n",
    "agg"
   ]
  },
  {
   "cell_type": "code",
   "execution_count": 138,
   "metadata": {},
   "outputs": [
    {
     "data": {
      "text/html": [
       "<div>\n",
       "<style scoped>\n",
       "    .dataframe tbody tr th:only-of-type {\n",
       "        vertical-align: middle;\n",
       "    }\n",
       "\n",
       "    .dataframe tbody tr th {\n",
       "        vertical-align: top;\n",
       "    }\n",
       "\n",
       "    .dataframe thead th {\n",
       "        text-align: right;\n",
       "    }\n",
       "</style>\n",
       "<table border=\"1\" class=\"dataframe\">\n",
       "  <thead>\n",
       "    <tr style=\"text-align: right;\">\n",
       "      <th></th>\n",
       "      <th>HRS</th>\n",
       "      <th>RATE</th>\n",
       "      <th>ERSP</th>\n",
       "      <th>ERNO</th>\n",
       "      <th>NEIN</th>\n",
       "      <th>ASSET</th>\n",
       "      <th>AGE</th>\n",
       "      <th>DEP</th>\n",
       "      <th>RACE</th>\n",
       "      <th>SCHOOL</th>\n",
       "    </tr>\n",
       "    <tr>\n",
       "      <th>NEW_DUMMY</th>\n",
       "      <th></th>\n",
       "      <th></th>\n",
       "      <th></th>\n",
       "      <th></th>\n",
       "      <th></th>\n",
       "      <th></th>\n",
       "      <th></th>\n",
       "      <th></th>\n",
       "      <th></th>\n",
       "      <th></th>\n",
       "    </tr>\n",
       "  </thead>\n",
       "  <tbody>\n",
       "    <tr>\n",
       "      <td>0</td>\n",
       "      <td>2084.15</td>\n",
       "      <td>2.55</td>\n",
       "      <td>1055.85</td>\n",
       "      <td>288.60</td>\n",
       "      <td>258.40</td>\n",
       "      <td>4600.15</td>\n",
       "      <td>39.90</td>\n",
       "      <td>2.33</td>\n",
       "      <td>36.33</td>\n",
       "      <td>9.36</td>\n",
       "    </tr>\n",
       "    <tr>\n",
       "      <td>1</td>\n",
       "      <td>2193.42</td>\n",
       "      <td>3.01</td>\n",
       "      <td>1034.00</td>\n",
       "      <td>261.37</td>\n",
       "      <td>408.74</td>\n",
       "      <td>8018.00</td>\n",
       "      <td>38.77</td>\n",
       "      <td>2.37</td>\n",
       "      <td>23.69</td>\n",
       "      <td>10.66</td>\n",
       "    </tr>\n",
       "  </tbody>\n",
       "</table>\n",
       "</div>"
      ],
      "text/plain": [
       "               HRS  RATE     ERSP    ERNO    NEIN    ASSET    AGE   DEP  \\\n",
       "NEW_DUMMY                                                                 \n",
       "0          2084.15  2.55  1055.85  288.60  258.40  4600.15  39.90  2.33   \n",
       "1          2193.42  3.01  1034.00  261.37  408.74  8018.00  38.77  2.37   \n",
       "\n",
       "            RACE  SCHOOL  \n",
       "NEW_DUMMY                 \n",
       "0          36.33    9.36  \n",
       "1          23.69   10.66  "
      ]
     },
     "execution_count": 138,
     "metadata": {},
     "output_type": "execute_result"
    }
   ],
   "source": [
    "mn = df.groupby('NEW_DUMMY').mean() # Calculating the mean conditional on the newly made dummy variable\n",
    "mn = mn.round(2) # Rounding the values to two decimal places.\n",
    "mn"
   ]
  },
  {
   "cell_type": "markdown",
   "metadata": {},
   "source": [
    "Be aware, depending on how you are subsetting you may need to use bitwise logic."
   ]
  },
  {
   "cell_type": "code",
   "execution_count": 139,
   "metadata": {},
   "outputs": [
    {
     "ename": "ValueError",
     "evalue": "The truth value of a Series is ambiguous. Use a.empty, a.bool(), a.item(), a.any() or a.all().",
     "output_type": "error",
     "traceback": [
      "\u001b[1;31m---------------------------------------------------------------------------\u001b[0m",
      "\u001b[1;31mValueError\u001b[0m                                Traceback (most recent call last)",
      "\u001b[1;32m<ipython-input-139-70068d0de13d>\u001b[0m in \u001b[0;36m<module>\u001b[1;34m\u001b[0m\n\u001b[1;32m----> 1\u001b[1;33m \u001b[0mmask\u001b[0m \u001b[1;33m=\u001b[0m \u001b[1;33m(\u001b[0m\u001b[1;33m(\u001b[0m\u001b[0mdf\u001b[0m\u001b[1;33m[\u001b[0m\u001b[1;34m'NEW_DUMMY'\u001b[0m\u001b[1;33m]\u001b[0m \u001b[1;33m==\u001b[0m \u001b[1;36m1\u001b[0m\u001b[1;33m)\u001b[0m \u001b[1;32mand\u001b[0m \u001b[1;33m(\u001b[0m\u001b[0mdf\u001b[0m\u001b[1;33m.\u001b[0m\u001b[0mRATE\u001b[0m \u001b[1;33m>=\u001b[0m \u001b[0mnp\u001b[0m\u001b[1;33m.\u001b[0m\u001b[0mmean\u001b[0m\u001b[1;33m(\u001b[0m\u001b[0mdf\u001b[0m\u001b[1;33m.\u001b[0m\u001b[0mRATE\u001b[0m\u001b[1;33m)\u001b[0m\u001b[1;33m)\u001b[0m\u001b[1;33m)\u001b[0m \u001b[1;31m# This requires a bitwise operation\u001b[0m\u001b[1;33m\u001b[0m\u001b[1;33m\u001b[0m\u001b[0m\n\u001b[0m\u001b[0;32m      2\u001b[0m \u001b[0mdf\u001b[0m\u001b[1;33m.\u001b[0m\u001b[0mloc\u001b[0m\u001b[1;33m[\u001b[0m\u001b[0mmask\u001b[0m\u001b[1;33m,\u001b[0m \u001b[1;34m'HRS'\u001b[0m\u001b[1;33m]\u001b[0m\u001b[1;33m.\u001b[0m\u001b[0mhead\u001b[0m\u001b[1;33m(\u001b[0m\u001b[1;33m)\u001b[0m\u001b[1;33m\u001b[0m\u001b[1;33m\u001b[0m\u001b[0m\n",
      "\u001b[1;32m~\\Anaconda3\\lib\\site-packages\\pandas\\core\\generic.py\u001b[0m in \u001b[0;36m__nonzero__\u001b[1;34m(self)\u001b[0m\n\u001b[0;32m   1553\u001b[0m             \u001b[1;34m\"The truth value of a {0} is ambiguous. \"\u001b[0m\u001b[1;33m\u001b[0m\u001b[1;33m\u001b[0m\u001b[0m\n\u001b[0;32m   1554\u001b[0m             \"Use a.empty, a.bool(), a.item(), a.any() or a.all().\".format(\n\u001b[1;32m-> 1555\u001b[1;33m                 \u001b[0mself\u001b[0m\u001b[1;33m.\u001b[0m\u001b[0m__class__\u001b[0m\u001b[1;33m.\u001b[0m\u001b[0m__name__\u001b[0m\u001b[1;33m\u001b[0m\u001b[1;33m\u001b[0m\u001b[0m\n\u001b[0m\u001b[0;32m   1556\u001b[0m             )\n\u001b[0;32m   1557\u001b[0m         )\n",
      "\u001b[1;31mValueError\u001b[0m: The truth value of a Series is ambiguous. Use a.empty, a.bool(), a.item(), a.any() or a.all()."
     ]
    }
   ],
   "source": [
    "mask = ((df['NEW_DUMMY'] == 1) and (df.RATE >= np.mean(df.RATE))) # This requires a bitwise operation\n",
    "df.loc[mask, 'HRS'].head()"
   ]
  },
  {
   "cell_type": "code",
   "execution_count": 140,
   "metadata": {},
   "outputs": [
    {
     "data": {
      "text/plain": [
       "0    2157.0\n",
       "1    2174.0\n",
       "5    2185.0\n",
       "6    2210.0\n",
       "8    2267.0\n",
       "Name: HRS, dtype: float64"
      ]
     },
     "execution_count": 140,
     "metadata": {},
     "output_type": "execute_result"
    }
   ],
   "source": [
    "mask = ((df['NEW_DUMMY'] == 1) & (df.RATE >= np.mean(df.RATE))) # Now it works fine.\n",
    "df.loc[mask, 'HRS'].head()"
   ]
  },
  {
   "cell_type": "markdown",
   "metadata": {},
   "source": [
    "#### Merge, Join, and Concatenate\n",
    "Dataframes can be merged, joined, and concatenated.  These operations are very useful, so be aware of them.\n",
    "For more information and better examples: https://pandas.pydata.org/pandas-docs/stable/user_guide/merging.html"
   ]
  },
  {
   "cell_type": "code",
   "execution_count": 141,
   "metadata": {},
   "outputs": [
    {
     "name": "stdout",
     "output_type": "stream",
     "text": [
      "Number of rows in df:  39\n",
      "Number of rows in the concatenated dataframes:  117\n"
     ]
    },
    {
     "data": {
      "text/html": [
       "<div>\n",
       "<style scoped>\n",
       "    .dataframe tbody tr th:only-of-type {\n",
       "        vertical-align: middle;\n",
       "    }\n",
       "\n",
       "    .dataframe tbody tr th {\n",
       "        vertical-align: top;\n",
       "    }\n",
       "\n",
       "    .dataframe thead th {\n",
       "        text-align: right;\n",
       "    }\n",
       "</style>\n",
       "<table border=\"1\" class=\"dataframe\">\n",
       "  <thead>\n",
       "    <tr style=\"text-align: right;\">\n",
       "      <th></th>\n",
       "      <th>HRS</th>\n",
       "      <th>RATE</th>\n",
       "      <th>ERSP</th>\n",
       "      <th>ERNO</th>\n",
       "      <th>NEIN</th>\n",
       "      <th>ASSET</th>\n",
       "      <th>AGE</th>\n",
       "      <th>DEP</th>\n",
       "      <th>RACE</th>\n",
       "      <th>SCHOOL</th>\n",
       "      <th>NEW_DUMMY</th>\n",
       "    </tr>\n",
       "  </thead>\n",
       "  <tbody>\n",
       "    <tr>\n",
       "      <td>0</td>\n",
       "      <td>2157.0</td>\n",
       "      <td>2.905</td>\n",
       "      <td>1121.0</td>\n",
       "      <td>291.0</td>\n",
       "      <td>380.0</td>\n",
       "      <td>7250.0</td>\n",
       "      <td>38.5</td>\n",
       "      <td>2.340</td>\n",
       "      <td>32.1</td>\n",
       "      <td>10.5</td>\n",
       "      <td>1</td>\n",
       "    </tr>\n",
       "    <tr>\n",
       "      <td>1</td>\n",
       "      <td>2174.0</td>\n",
       "      <td>2.970</td>\n",
       "      <td>1128.0</td>\n",
       "      <td>301.0</td>\n",
       "      <td>398.0</td>\n",
       "      <td>7744.0</td>\n",
       "      <td>39.3</td>\n",
       "      <td>2.335</td>\n",
       "      <td>31.2</td>\n",
       "      <td>10.5</td>\n",
       "      <td>1</td>\n",
       "    </tr>\n",
       "    <tr>\n",
       "      <td>2</td>\n",
       "      <td>2062.0</td>\n",
       "      <td>2.350</td>\n",
       "      <td>1214.0</td>\n",
       "      <td>326.0</td>\n",
       "      <td>185.0</td>\n",
       "      <td>3068.0</td>\n",
       "      <td>40.1</td>\n",
       "      <td>2.851</td>\n",
       "      <td>0.0</td>\n",
       "      <td>8.9</td>\n",
       "      <td>0</td>\n",
       "    </tr>\n",
       "    <tr>\n",
       "      <td>3</td>\n",
       "      <td>2111.0</td>\n",
       "      <td>2.511</td>\n",
       "      <td>1203.0</td>\n",
       "      <td>49.0</td>\n",
       "      <td>117.0</td>\n",
       "      <td>1632.0</td>\n",
       "      <td>22.4</td>\n",
       "      <td>1.159</td>\n",
       "      <td>27.5</td>\n",
       "      <td>11.5</td>\n",
       "      <td>0</td>\n",
       "    </tr>\n",
       "    <tr>\n",
       "      <td>4</td>\n",
       "      <td>2134.0</td>\n",
       "      <td>2.791</td>\n",
       "      <td>1013.0</td>\n",
       "      <td>594.0</td>\n",
       "      <td>730.0</td>\n",
       "      <td>12710.0</td>\n",
       "      <td>57.7</td>\n",
       "      <td>1.229</td>\n",
       "      <td>32.5</td>\n",
       "      <td>8.8</td>\n",
       "      <td>0</td>\n",
       "    </tr>\n",
       "  </tbody>\n",
       "</table>\n",
       "</div>"
      ],
      "text/plain": [
       "      HRS   RATE    ERSP   ERNO   NEIN    ASSET   AGE    DEP  RACE  SCHOOL  \\\n",
       "0  2157.0  2.905  1121.0  291.0  380.0   7250.0  38.5  2.340  32.1    10.5   \n",
       "1  2174.0  2.970  1128.0  301.0  398.0   7744.0  39.3  2.335  31.2    10.5   \n",
       "2  2062.0  2.350  1214.0  326.0  185.0   3068.0  40.1  2.851   0.0     8.9   \n",
       "3  2111.0  2.511  1203.0   49.0  117.0   1632.0  22.4  1.159  27.5    11.5   \n",
       "4  2134.0  2.791  1013.0  594.0  730.0  12710.0  57.7  1.229  32.5     8.8   \n",
       "\n",
       "   NEW_DUMMY  \n",
       "0          1  \n",
       "1          1  \n",
       "2          0  \n",
       "3          0  \n",
       "4          0  "
      ]
     },
     "execution_count": 141,
     "metadata": {},
     "output_type": "execute_result"
    }
   ],
   "source": [
    "# Concatenating\n",
    "print('Number of rows in df: ', len(df))\n",
    "frames = [df, df, df] # List of several dataframes.\n",
    "combined = pd.concat(frames) # Concatenating the dataframes.\n",
    "print('Number of rows in the concatenated dataframes: ', len(combined))\n",
    "combined.head()"
   ]
  },
  {
   "cell_type": "code",
   "execution_count": 142,
   "metadata": {},
   "outputs": [
    {
     "name": "stdout",
     "output_type": "stream",
     "text": [
      "Number of rows in the merged dataframes:  43\n"
     ]
    },
    {
     "data": {
      "text/html": [
       "<div>\n",
       "<style scoped>\n",
       "    .dataframe tbody tr th:only-of-type {\n",
       "        vertical-align: middle;\n",
       "    }\n",
       "\n",
       "    .dataframe tbody tr th {\n",
       "        vertical-align: top;\n",
       "    }\n",
       "\n",
       "    .dataframe thead th {\n",
       "        text-align: right;\n",
       "    }\n",
       "</style>\n",
       "<table border=\"1\" class=\"dataframe\">\n",
       "  <thead>\n",
       "    <tr style=\"text-align: right;\">\n",
       "      <th></th>\n",
       "      <th>HRS</th>\n",
       "      <th>RATE_x</th>\n",
       "      <th>ERSP_x</th>\n",
       "      <th>ERNO_x</th>\n",
       "      <th>NEIN_x</th>\n",
       "      <th>ASSET_x</th>\n",
       "      <th>AGE_x</th>\n",
       "      <th>DEP_x</th>\n",
       "      <th>RACE_x</th>\n",
       "      <th>SCHOOL_x</th>\n",
       "      <th>...</th>\n",
       "      <th>RATE_y</th>\n",
       "      <th>ERSP_y</th>\n",
       "      <th>ERNO_y</th>\n",
       "      <th>NEIN_y</th>\n",
       "      <th>ASSET_y</th>\n",
       "      <th>AGE_y</th>\n",
       "      <th>DEP_y</th>\n",
       "      <th>RACE_y</th>\n",
       "      <th>SCHOOL_y</th>\n",
       "      <th>NEW_DUMMY_y</th>\n",
       "    </tr>\n",
       "  </thead>\n",
       "  <tbody>\n",
       "    <tr>\n",
       "      <td>0</td>\n",
       "      <td>2157.0</td>\n",
       "      <td>2.905</td>\n",
       "      <td>1121.0</td>\n",
       "      <td>291.0</td>\n",
       "      <td>380.0</td>\n",
       "      <td>7250.0</td>\n",
       "      <td>38.5</td>\n",
       "      <td>2.340</td>\n",
       "      <td>32.1</td>\n",
       "      <td>10.5</td>\n",
       "      <td>...</td>\n",
       "      <td>2.905</td>\n",
       "      <td>1121.0</td>\n",
       "      <td>291.0</td>\n",
       "      <td>380.0</td>\n",
       "      <td>7250.0</td>\n",
       "      <td>38.5</td>\n",
       "      <td>2.340</td>\n",
       "      <td>32.1</td>\n",
       "      <td>10.5</td>\n",
       "      <td>1</td>\n",
       "    </tr>\n",
       "    <tr>\n",
       "      <td>1</td>\n",
       "      <td>2174.0</td>\n",
       "      <td>2.970</td>\n",
       "      <td>1128.0</td>\n",
       "      <td>301.0</td>\n",
       "      <td>398.0</td>\n",
       "      <td>7744.0</td>\n",
       "      <td>39.3</td>\n",
       "      <td>2.335</td>\n",
       "      <td>31.2</td>\n",
       "      <td>10.5</td>\n",
       "      <td>...</td>\n",
       "      <td>2.970</td>\n",
       "      <td>1128.0</td>\n",
       "      <td>301.0</td>\n",
       "      <td>398.0</td>\n",
       "      <td>7744.0</td>\n",
       "      <td>39.3</td>\n",
       "      <td>2.335</td>\n",
       "      <td>31.2</td>\n",
       "      <td>10.5</td>\n",
       "      <td>1</td>\n",
       "    </tr>\n",
       "    <tr>\n",
       "      <td>2</td>\n",
       "      <td>2174.0</td>\n",
       "      <td>2.970</td>\n",
       "      <td>1128.0</td>\n",
       "      <td>301.0</td>\n",
       "      <td>398.0</td>\n",
       "      <td>7744.0</td>\n",
       "      <td>39.3</td>\n",
       "      <td>2.335</td>\n",
       "      <td>31.2</td>\n",
       "      <td>10.5</td>\n",
       "      <td>...</td>\n",
       "      <td>3.582</td>\n",
       "      <td>1141.0</td>\n",
       "      <td>414.0</td>\n",
       "      <td>498.0</td>\n",
       "      <td>10239.0</td>\n",
       "      <td>40.0</td>\n",
       "      <td>2.064</td>\n",
       "      <td>0.0</td>\n",
       "      <td>11.7</td>\n",
       "      <td>1</td>\n",
       "    </tr>\n",
       "    <tr>\n",
       "      <td>3</td>\n",
       "      <td>2174.0</td>\n",
       "      <td>3.582</td>\n",
       "      <td>1141.0</td>\n",
       "      <td>414.0</td>\n",
       "      <td>498.0</td>\n",
       "      <td>10239.0</td>\n",
       "      <td>40.0</td>\n",
       "      <td>2.064</td>\n",
       "      <td>0.0</td>\n",
       "      <td>11.7</td>\n",
       "      <td>...</td>\n",
       "      <td>2.970</td>\n",
       "      <td>1128.0</td>\n",
       "      <td>301.0</td>\n",
       "      <td>398.0</td>\n",
       "      <td>7744.0</td>\n",
       "      <td>39.3</td>\n",
       "      <td>2.335</td>\n",
       "      <td>31.2</td>\n",
       "      <td>10.5</td>\n",
       "      <td>1</td>\n",
       "    </tr>\n",
       "    <tr>\n",
       "      <td>4</td>\n",
       "      <td>2174.0</td>\n",
       "      <td>3.582</td>\n",
       "      <td>1141.0</td>\n",
       "      <td>414.0</td>\n",
       "      <td>498.0</td>\n",
       "      <td>10239.0</td>\n",
       "      <td>40.0</td>\n",
       "      <td>2.064</td>\n",
       "      <td>0.0</td>\n",
       "      <td>11.7</td>\n",
       "      <td>...</td>\n",
       "      <td>3.582</td>\n",
       "      <td>1141.0</td>\n",
       "      <td>414.0</td>\n",
       "      <td>498.0</td>\n",
       "      <td>10239.0</td>\n",
       "      <td>40.0</td>\n",
       "      <td>2.064</td>\n",
       "      <td>0.0</td>\n",
       "      <td>11.7</td>\n",
       "      <td>1</td>\n",
       "    </tr>\n",
       "  </tbody>\n",
       "</table>\n",
       "<p>5 rows × 21 columns</p>\n",
       "</div>"
      ],
      "text/plain": [
       "      HRS  RATE_x  ERSP_x  ERNO_x  NEIN_x  ASSET_x  AGE_x  DEP_x  RACE_x  \\\n",
       "0  2157.0   2.905  1121.0   291.0   380.0   7250.0   38.5  2.340    32.1   \n",
       "1  2174.0   2.970  1128.0   301.0   398.0   7744.0   39.3  2.335    31.2   \n",
       "2  2174.0   2.970  1128.0   301.0   398.0   7744.0   39.3  2.335    31.2   \n",
       "3  2174.0   3.582  1141.0   414.0   498.0  10239.0   40.0  2.064     0.0   \n",
       "4  2174.0   3.582  1141.0   414.0   498.0  10239.0   40.0  2.064     0.0   \n",
       "\n",
       "   SCHOOL_x  ...  RATE_y  ERSP_y  ERNO_y  NEIN_y  ASSET_y  AGE_y  DEP_y  \\\n",
       "0      10.5  ...   2.905  1121.0   291.0   380.0   7250.0   38.5  2.340   \n",
       "1      10.5  ...   2.970  1128.0   301.0   398.0   7744.0   39.3  2.335   \n",
       "2      10.5  ...   3.582  1141.0   414.0   498.0  10239.0   40.0  2.064   \n",
       "3      11.7  ...   2.970  1128.0   301.0   398.0   7744.0   39.3  2.335   \n",
       "4      11.7  ...   3.582  1141.0   414.0   498.0  10239.0   40.0  2.064   \n",
       "\n",
       "   RACE_y  SCHOOL_y  NEW_DUMMY_y  \n",
       "0    32.1      10.5            1  \n",
       "1    31.2      10.5            1  \n",
       "2     0.0      11.7            1  \n",
       "3    31.2      10.5            1  \n",
       "4     0.0      11.7            1  \n",
       "\n",
       "[5 rows x 21 columns]"
      ]
     },
     "execution_count": 142,
     "metadata": {},
     "output_type": "execute_result"
    }
   ],
   "source": [
    "# Merging and Joining\n",
    "df1 = df\n",
    "df2 = df\n",
    "merged = pd.merge(df1, df2, on = 'HRS') # Merging two dataframes on a single key.\n",
    "print('Number of rows in the merged dataframes: ', len(merged))\n",
    "merged.head()"
   ]
  },
  {
   "cell_type": "code",
   "execution_count": 143,
   "metadata": {},
   "outputs": [
    {
     "name": "stdout",
     "output_type": "stream",
     "text": [
      "Number of rows in the joined dataframes:  43\n"
     ]
    },
    {
     "data": {
      "text/html": [
       "<div>\n",
       "<style scoped>\n",
       "    .dataframe tbody tr th:only-of-type {\n",
       "        vertical-align: middle;\n",
       "    }\n",
       "\n",
       "    .dataframe tbody tr th {\n",
       "        vertical-align: top;\n",
       "    }\n",
       "\n",
       "    .dataframe thead th {\n",
       "        text-align: right;\n",
       "    }\n",
       "</style>\n",
       "<table border=\"1\" class=\"dataframe\">\n",
       "  <thead>\n",
       "    <tr style=\"text-align: right;\">\n",
       "      <th></th>\n",
       "      <th>HRS</th>\n",
       "      <th>RATE_x</th>\n",
       "      <th>ERSP_x</th>\n",
       "      <th>ERNO_x</th>\n",
       "      <th>NEIN_x</th>\n",
       "      <th>ASSET_x</th>\n",
       "      <th>AGE_x</th>\n",
       "      <th>DEP_x</th>\n",
       "      <th>RACE_x</th>\n",
       "      <th>SCHOOL_x</th>\n",
       "      <th>...</th>\n",
       "      <th>RATE_y</th>\n",
       "      <th>ERSP_y</th>\n",
       "      <th>ERNO_y</th>\n",
       "      <th>NEIN_y</th>\n",
       "      <th>ASSET_y</th>\n",
       "      <th>AGE_y</th>\n",
       "      <th>DEP_y</th>\n",
       "      <th>RACE_y</th>\n",
       "      <th>SCHOOL_y</th>\n",
       "      <th>NEW_DUMMY_y</th>\n",
       "    </tr>\n",
       "  </thead>\n",
       "  <tbody>\n",
       "    <tr>\n",
       "      <td>0</td>\n",
       "      <td>2157.0</td>\n",
       "      <td>2.905</td>\n",
       "      <td>1121.0</td>\n",
       "      <td>291.0</td>\n",
       "      <td>380.0</td>\n",
       "      <td>7250.0</td>\n",
       "      <td>38.5</td>\n",
       "      <td>2.340</td>\n",
       "      <td>32.1</td>\n",
       "      <td>10.5</td>\n",
       "      <td>...</td>\n",
       "      <td>2.905</td>\n",
       "      <td>1121.0</td>\n",
       "      <td>291.0</td>\n",
       "      <td>380.0</td>\n",
       "      <td>7250.0</td>\n",
       "      <td>38.5</td>\n",
       "      <td>2.340</td>\n",
       "      <td>32.1</td>\n",
       "      <td>10.5</td>\n",
       "      <td>1</td>\n",
       "    </tr>\n",
       "    <tr>\n",
       "      <td>1</td>\n",
       "      <td>2174.0</td>\n",
       "      <td>2.970</td>\n",
       "      <td>1128.0</td>\n",
       "      <td>301.0</td>\n",
       "      <td>398.0</td>\n",
       "      <td>7744.0</td>\n",
       "      <td>39.3</td>\n",
       "      <td>2.335</td>\n",
       "      <td>31.2</td>\n",
       "      <td>10.5</td>\n",
       "      <td>...</td>\n",
       "      <td>2.970</td>\n",
       "      <td>1128.0</td>\n",
       "      <td>301.0</td>\n",
       "      <td>398.0</td>\n",
       "      <td>7744.0</td>\n",
       "      <td>39.3</td>\n",
       "      <td>2.335</td>\n",
       "      <td>31.2</td>\n",
       "      <td>10.5</td>\n",
       "      <td>1</td>\n",
       "    </tr>\n",
       "    <tr>\n",
       "      <td>2</td>\n",
       "      <td>2174.0</td>\n",
       "      <td>2.970</td>\n",
       "      <td>1128.0</td>\n",
       "      <td>301.0</td>\n",
       "      <td>398.0</td>\n",
       "      <td>7744.0</td>\n",
       "      <td>39.3</td>\n",
       "      <td>2.335</td>\n",
       "      <td>31.2</td>\n",
       "      <td>10.5</td>\n",
       "      <td>...</td>\n",
       "      <td>3.582</td>\n",
       "      <td>1141.0</td>\n",
       "      <td>414.0</td>\n",
       "      <td>498.0</td>\n",
       "      <td>10239.0</td>\n",
       "      <td>40.0</td>\n",
       "      <td>2.064</td>\n",
       "      <td>0.0</td>\n",
       "      <td>11.7</td>\n",
       "      <td>1</td>\n",
       "    </tr>\n",
       "    <tr>\n",
       "      <td>3</td>\n",
       "      <td>2062.0</td>\n",
       "      <td>2.350</td>\n",
       "      <td>1214.0</td>\n",
       "      <td>326.0</td>\n",
       "      <td>185.0</td>\n",
       "      <td>3068.0</td>\n",
       "      <td>40.1</td>\n",
       "      <td>2.851</td>\n",
       "      <td>0.0</td>\n",
       "      <td>8.9</td>\n",
       "      <td>...</td>\n",
       "      <td>2.350</td>\n",
       "      <td>1214.0</td>\n",
       "      <td>326.0</td>\n",
       "      <td>185.0</td>\n",
       "      <td>3068.0</td>\n",
       "      <td>40.1</td>\n",
       "      <td>2.851</td>\n",
       "      <td>0.0</td>\n",
       "      <td>8.9</td>\n",
       "      <td>0</td>\n",
       "    </tr>\n",
       "    <tr>\n",
       "      <td>4</td>\n",
       "      <td>2111.0</td>\n",
       "      <td>2.511</td>\n",
       "      <td>1203.0</td>\n",
       "      <td>49.0</td>\n",
       "      <td>117.0</td>\n",
       "      <td>1632.0</td>\n",
       "      <td>22.4</td>\n",
       "      <td>1.159</td>\n",
       "      <td>27.5</td>\n",
       "      <td>11.5</td>\n",
       "      <td>...</td>\n",
       "      <td>2.511</td>\n",
       "      <td>1203.0</td>\n",
       "      <td>49.0</td>\n",
       "      <td>117.0</td>\n",
       "      <td>1632.0</td>\n",
       "      <td>22.4</td>\n",
       "      <td>1.159</td>\n",
       "      <td>27.5</td>\n",
       "      <td>11.5</td>\n",
       "      <td>0</td>\n",
       "    </tr>\n",
       "  </tbody>\n",
       "</table>\n",
       "<p>5 rows × 21 columns</p>\n",
       "</div>"
      ],
      "text/plain": [
       "      HRS  RATE_x  ERSP_x  ERNO_x  NEIN_x  ASSET_x  AGE_x  DEP_x  RACE_x  \\\n",
       "0  2157.0   2.905  1121.0   291.0   380.0   7250.0   38.5  2.340    32.1   \n",
       "1  2174.0   2.970  1128.0   301.0   398.0   7744.0   39.3  2.335    31.2   \n",
       "2  2174.0   2.970  1128.0   301.0   398.0   7744.0   39.3  2.335    31.2   \n",
       "3  2062.0   2.350  1214.0   326.0   185.0   3068.0   40.1  2.851     0.0   \n",
       "4  2111.0   2.511  1203.0    49.0   117.0   1632.0   22.4  1.159    27.5   \n",
       "\n",
       "   SCHOOL_x  ...  RATE_y  ERSP_y  ERNO_y  NEIN_y  ASSET_y  AGE_y  DEP_y  \\\n",
       "0      10.5  ...   2.905  1121.0   291.0   380.0   7250.0   38.5  2.340   \n",
       "1      10.5  ...   2.970  1128.0   301.0   398.0   7744.0   39.3  2.335   \n",
       "2      10.5  ...   3.582  1141.0   414.0   498.0  10239.0   40.0  2.064   \n",
       "3       8.9  ...   2.350  1214.0   326.0   185.0   3068.0   40.1  2.851   \n",
       "4      11.5  ...   2.511  1203.0    49.0   117.0   1632.0   22.4  1.159   \n",
       "\n",
       "   RACE_y  SCHOOL_y  NEW_DUMMY_y  \n",
       "0    32.1      10.5            1  \n",
       "1    31.2      10.5            1  \n",
       "2     0.0      11.7            1  \n",
       "3     0.0       8.9            0  \n",
       "4    27.5      11.5            0  \n",
       "\n",
       "[5 rows x 21 columns]"
      ]
     },
     "execution_count": 143,
     "metadata": {},
     "output_type": "execute_result"
    }
   ],
   "source": [
    "joined = pd.merge(df1, df2, on = 'HRS', how = 'left') # Left joining two dataframes on a single key.\n",
    "print('Number of rows in the joined dataframes: ', len(joined))\n",
    "joined.head() # Note: the function pd.join() uses pd.merge internally, so pd.merge can be used for all the operations."
   ]
  },
  {
   "cell_type": "markdown",
   "metadata": {},
   "source": [
    "### Matplotlib\n",
    "Matplotlib is a useful python library to plotting and graphics."
   ]
  },
  {
   "cell_type": "markdown",
   "metadata": {},
   "source": [
    "#### Basics"
   ]
  },
  {
   "cell_type": "code",
   "execution_count": 144,
   "metadata": {},
   "outputs": [],
   "source": [
    "import matplotlib.pyplot as plt"
   ]
  },
  {
   "cell_type": "markdown",
   "metadata": {},
   "source": [
    "Using numpy we can evenly sample values from 1 to 10 in .1 increments.  Then we can find sin() of these values."
   ]
  },
  {
   "cell_type": "code",
   "execution_count": 145,
   "metadata": {},
   "outputs": [],
   "source": [
    "t = np.arange(0, 10, .3)\n",
    "s = np.sin(t)"
   ]
  },
  {
   "cell_type": "markdown",
   "metadata": {},
   "source": [
    "We can also generate a normal histogram using Numpy."
   ]
  },
  {
   "cell_type": "code",
   "execution_count": 146,
   "metadata": {},
   "outputs": [],
   "source": [
    "np.random.seed(123)\n",
    "mu, sigma = 0, 1\n",
    "x = mu + sigma * np.random.randn(10000)"
   ]
  },
  {
   "cell_type": "markdown",
   "metadata": {},
   "source": [
    "Now we just need to plot the figure, here's a quick demo."
   ]
  },
  {
   "cell_type": "code",
   "execution_count": 150,
   "metadata": {},
   "outputs": [
    {
     "data": {
      "image/png": "[encoded data removed]",
      "text/plain": [
       "<Figure size 432x288 with 2 Axes>"
      ]
     },
     "metadata": {
      "needs_background": "light"
     },
     "output_type": "display_data"
    }
   ],
   "source": [
    "\n",
    "\n",
    "# Plotting\n",
    "plt.figure(1) # Generate a figure.\n",
    "plt.subplot(211) # Generate a sub-figure on the top portion of the figure.\n",
    "plt.plot(t, s, 'r--', t, s**2, 'bs', t, s**2, 'k') # Plot sin and sin^2 with different line styles.\n",
    "plt.title('EASY') # Add a figure title.\n",
    "plt.text(8, -.5, '???') # Add text in a specific location.\n",
    "plt.gcf().gca().add_artist(plt.Circle((8,-.5), radius = 2.5, color = 'y')) # Add a yello overal at a specific location.\n",
    "plt.grid(True) # Add a grid.\n",
    "\n",
    "plt.subplot(212) # Generate a sub-figure on the bottom portion of the figure.\n",
    "plt.hist(x, 100, density=1, facecolor='g', alpha=0.30, label = 'yeah') # Plot the normal histogram.\n",
    "plt.annotate('LOOK AT IT', xy=(1.1, .21), xytext=(2, .3), # Add text and an arrow at a specific location.\n",
    "            arrowprops=dict(facecolor='black', shrink=0.05),\n",
    "            )\n",
    "plt.xlabel('some variable') # Add a X label.\n",
    "plt.ylabel('THIS IS A LABEL') # Add a Y label.\n",
    "plt.legend(loc = 2) # Add a legend at a specific location.\n",
    "\n",
    "plt.show()"
   ]
  },
  {
   "cell_type": "markdown",
   "metadata": {},
   "source": [
    "### OLS Regression Example using Statsmodels"
   ]
  },
  {
   "cell_type": "code",
   "execution_count": 151,
   "metadata": {},
   "outputs": [],
   "source": [
    "import statsmodels.api as sm"
   ]
  },
  {
   "cell_type": "markdown",
   "metadata": {},
   "source": [
    "Here's a quick demo detailing OLS in Python.  There are many statistical packages that can be used and even more regarding machine learning."
   ]
  },
  {
   "cell_type": "markdown",
   "metadata": {},
   "source": [
    "#### OLS"
   ]
  },
  {
   "cell_type": "code",
   "execution_count": 228,
   "metadata": {},
   "outputs": [
    {
     "data": {
      "text/html": [
       "<table class=\"simpletable\">\n",
       "<caption>OLS Regression Results</caption>\n",
       "<tr>\n",
       "  <th>Dep. Variable:</th>          <td>ERSP</td>       <th>  R-squared:         </th> <td>   0.107</td>\n",
       "</tr>\n",
       "<tr>\n",
       "  <th>Model:</th>                   <td>OLS</td>       <th>  Adj. R-squared:    </th> <td>   0.057</td>\n",
       "</tr>\n",
       "<tr>\n",
       "  <th>Method:</th>             <td>Least Squares</td>  <th>  F-statistic:       </th> <td>   2.148</td>\n",
       "</tr>\n",
       "<tr>\n",
       "  <th>Date:</th>             <td>Sun, 03 Nov 2019</td> <th>  Prob (F-statistic):</th>  <td> 0.131</td> \n",
       "</tr>\n",
       "<tr>\n",
       "  <th>Time:</th>                 <td>19:46:54</td>     <th>  Log-Likelihood:    </th> <td> -282.43</td>\n",
       "</tr>\n",
       "<tr>\n",
       "  <th>No. Observations:</th>      <td>    39</td>      <th>  AIC:               </th> <td>   570.9</td>\n",
       "</tr>\n",
       "<tr>\n",
       "  <th>Df Residuals:</th>          <td>    36</td>      <th>  BIC:               </th> <td>   575.9</td>\n",
       "</tr>\n",
       "<tr>\n",
       "  <th>Df Model:</th>              <td>     2</td>      <th>                     </th>     <td> </td>   \n",
       "</tr>\n",
       "<tr>\n",
       "  <th>Covariance Type:</th>      <td>nonrobust</td>    <th>                     </th>     <td> </td>   \n",
       "</tr>\n",
       "</table>\n",
       "<table class=\"simpletable\">\n",
       "<tr>\n",
       "    <td></td>       <th>coef</th>     <th>std err</th>      <th>t</th>      <th>P>|t|</th>  <th>[0.025</th>    <th>0.975]</th>  \n",
       "</tr>\n",
       "<tr>\n",
       "  <th>cons.</th> <td> 1926.2382</td> <td> 2116.879</td> <td>    0.910</td> <td> 0.369</td> <td>-2366.991</td> <td> 6219.467</td>\n",
       "</tr>\n",
       "<tr>\n",
       "  <th>HRS</th>   <td>   -0.8110</td> <td>    1.091</td> <td>   -0.743</td> <td> 0.462</td> <td>   -3.024</td> <td>    1.402</td>\n",
       "</tr>\n",
       "<tr>\n",
       "  <th>RATE</th>  <td>  307.4973</td> <td>  153.062</td> <td>    2.009</td> <td> 0.052</td> <td>   -2.926</td> <td>  617.921</td>\n",
       "</tr>\n",
       "</table>\n",
       "<table class=\"simpletable\">\n",
       "<tr>\n",
       "  <th>Omnibus:</th>       <td>22.473</td> <th>  Durbin-Watson:     </th> <td>   1.587</td>\n",
       "</tr>\n",
       "<tr>\n",
       "  <th>Prob(Omnibus):</th> <td> 0.000</td> <th>  Jarque-Bera (JB):  </th> <td>  40.903</td>\n",
       "</tr>\n",
       "<tr>\n",
       "  <th>Skew:</th>          <td>-1.490</td> <th>  Prob(JB):          </th> <td>1.31e-09</td>\n",
       "</tr>\n",
       "<tr>\n",
       "  <th>Kurtosis:</th>      <td> 7.037</td> <th>  Cond. No.          </th> <td>8.04e+04</td>\n",
       "</tr>\n",
       "</table><br/><br/>Warnings:<br/>[1] Standard Errors assume that the covariance matrix of the errors is correctly specified.<br/>[2] The condition number is large, 8.04e+04. This might indicate that there are<br/>strong multicollinearity or other numerical problems."
      ],
      "text/plain": [
       "<class 'statsmodels.iolib.summary.Summary'>\n",
       "\"\"\"\n",
       "                            OLS Regression Results                            \n",
       "==============================================================================\n",
       "Dep. Variable:                   ERSP   R-squared:                       0.107\n",
       "Model:                            OLS   Adj. R-squared:                  0.057\n",
       "Method:                 Least Squares   F-statistic:                     2.148\n",
       "Date:                Sun, 03 Nov 2019   Prob (F-statistic):              0.131\n",
       "Time:                        19:46:54   Log-Likelihood:                -282.43\n",
       "No. Observations:                  39   AIC:                             570.9\n",
       "Df Residuals:                      36   BIC:                             575.9\n",
       "Df Model:                           2                                         \n",
       "Covariance Type:            nonrobust                                         \n",
       "==============================================================================\n",
       "                 coef    std err          t      P>|t|      [0.025      0.975]\n",
       "------------------------------------------------------------------------------\n",
       "cons.       1926.2382   2116.879      0.910      0.369   -2366.991    6219.467\n",
       "HRS           -0.8110      1.091     -0.743      0.462      -3.024       1.402\n",
       "RATE         307.4973    153.062      2.009      0.052      -2.926     617.921\n",
       "==============================================================================\n",
       "Omnibus:                       22.473   Durbin-Watson:                   1.587\n",
       "Prob(Omnibus):                  0.000   Jarque-Bera (JB):               40.903\n",
       "Skew:                          -1.490   Prob(JB):                     1.31e-09\n",
       "Kurtosis:                       7.037   Cond. No.                     8.04e+04\n",
       "==============================================================================\n",
       "\n",
       "Warnings:\n",
       "[1] Standard Errors assume that the covariance matrix of the errors is correctly specified.\n",
       "[2] The condition number is large, 8.04e+04. This might indicate that there are\n",
       "strong multicollinearity or other numerical problems.\n",
       "\"\"\""
      ]
     },
     "execution_count": 228,
     "metadata": {},
     "output_type": "execute_result"
    }
   ],
   "source": [
    "df['cons.'] = 1\n",
    "x = df[['cons.', 'HRS', 'RATE']]\n",
    "y = df['ERSP']\n",
    "model = sm.OLS(y.astype(float), x.astype(float)).fit(method='pinv', cov_type='nonrobust', cov_kwds=None, use_t=None)\n",
    "predictions = model.predict(x)\n",
    "model.summary()\n",
    "# Could use Whties 1980's errors with the option: cov_type='HC0'"
   ]
  },
  {
   "cell_type": "markdown",
   "metadata": {},
   "source": [
    "#### OLS by hand"
   ]
  },
  {
   "cell_type": "code",
   "execution_count": 229,
   "metadata": {},
   "outputs": [
    {
     "name": "stdout",
     "output_type": "stream",
     "text": [
      "coef:\n",
      "[[ 1.92623825e+03 -8.11031720e-01  3.07497346e+02]]\n",
      "std err:\n",
      "[[2.11687858e+03 1.09124369e+00 1.53061701e+02]]\n"
     ]
    }
   ],
   "source": [
    "df = df.fillna(0)\n",
    "X = np.matrix(df[['cons.', 'HRS', 'RATE']]).astype(float)\n",
    "Y = np.matrix(df['ERSP']).astype(float).T\n",
    "Beta = (X.T*X).I*X.T*Y # .T transposes a matrix, .I inverts a matrix, * is matris multiplication (need to use @ for arrays).\n",
    "e = X@Beta - Y\n",
    "sigma_hat = (e.T@e)/(X.shape[0] - X.shape[1])\n",
    "Var_Cov_Matrix = sigma_hat[0, 0]*(X.T*X).I\n",
    "Var_Beta = Var_Cov_Matrix.diagonal()\n",
    "Beta_std_err = np.sqrt(Var_Beta)\n",
    "print('coef:')\n",
    "print(Beta.reshape(1, 3)) # As we can see the results are the same as above\n",
    "print('std err:')\n",
    "print(Beta_std_err) # As we can see the results are the same as above"
   ]
  }
 ],
 "metadata": {
  "kernelspec": {
   "display_name": "Python 3",
   "language": "python",
   "name": "python3"
  },
  "language_info": {
   "codemirror_mode": {
    "name": "ipython",
    "version": 3
   },
   "file_extension": ".py",
   "mimetype": "text/x-python",
   "name": "python",
   "nbconvert_exporter": "python",
   "pygments_lexer": "ipython3",
   "version": "3.7.4"
  }
 },
 "nbformat": 4,
 "nbformat_minor": 2
}
